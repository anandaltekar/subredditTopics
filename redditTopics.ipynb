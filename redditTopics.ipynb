{
  "nbformat": 4,
  "nbformat_minor": 0,
  "metadata": {
    "colab": {
      "name": "redditTopics.ipynb",
      "provenance": [],
      "collapsed_sections": [],
      "include_colab_link": true
    },
    "kernelspec": {
      "name": "python3",
      "display_name": "Python 3"
    },
    "accelerator": "GPU"
  },
  "cells": [
    {
      "cell_type": "markdown",
      "metadata": {
        "id": "view-in-github",
        "colab_type": "text"
      },
      "source": [
        "<a href=\"https://colab.research.google.com/github/anandaltekar/subredditTopics/blob/master/redditTopics.ipynb\" target=\"_parent\"><img src=\"https://colab.research.google.com/assets/colab-badge.svg\" alt=\"Open In Colab\"/></a>"
      ]
    },
    {
      "cell_type": "code",
      "metadata": {
        "id": "DFcyD6HCb3i3",
        "colab_type": "code",
        "colab": {}
      },
      "source": [
        "import pandas as pd\n",
        "import sqlite3\n",
        "\n",
        "# Text Cleaning\n",
        "import string\n",
        "import re\n",
        "import nltk \n",
        "from nltk.corpus import stopwords \n",
        "from nltk.stem import WordNetLemmatizer\n",
        "\n",
        "#Generating n-grams\n",
        "from gensim.models import Phrases"
      ],
      "execution_count": 0,
      "outputs": []
    },
    {
      "cell_type": "code",
      "metadata": {
        "id": "JY5_GJIleG2q",
        "colab_type": "code",
        "outputId": "c8017d42-b936-4e6b-8cb0-e7f4f716b45b",
        "colab": {
          "base_uri": "https://localhost:8080/",
          "height": 213
        }
      },
      "source": [
        "nltk.download('averaged_perceptron_tagger')\n",
        "nltk.download('stopwords')\n",
        "nltk.download('punkt')\n",
        "nltk.download('wordnet')"
      ],
      "execution_count": 0,
      "outputs": [
        {
          "output_type": "stream",
          "text": [
            "[nltk_data] Downloading package averaged_perceptron_tagger to\n",
            "[nltk_data]     /root/nltk_data...\n",
            "[nltk_data]   Unzipping taggers/averaged_perceptron_tagger.zip.\n",
            "[nltk_data] Downloading package stopwords to /root/nltk_data...\n",
            "[nltk_data]   Unzipping corpora/stopwords.zip.\n",
            "[nltk_data] Downloading package punkt to /root/nltk_data...\n",
            "[nltk_data]   Unzipping tokenizers/punkt.zip.\n",
            "[nltk_data] Downloading package wordnet to /root/nltk_data...\n",
            "[nltk_data]   Unzipping corpora/wordnet.zip.\n"
          ],
          "name": "stdout"
        },
        {
          "output_type": "execute_result",
          "data": {
            "text/plain": [
              "True"
            ]
          },
          "metadata": {
            "tags": []
          },
          "execution_count": 2
        }
      ]
    },
    {
      "cell_type": "code",
      "metadata": {
        "id": "9IUztgn_eI1N",
        "colab_type": "code",
        "outputId": "24acd459-34dd-494e-a9d3-4b1c88947334",
        "colab": {
          "base_uri": "https://localhost:8080/",
          "height": 323
        }
      },
      "source": [
        "df = pd.read_csv('/content/drive/My Drive/Policygenius/Insurance_comments.csv')\n",
        "df.drop(columns=['Author','ID','score'])\n",
        "df = df[df['Author'] != '[deleted]']\n",
        "df.describe()"
      ],
      "execution_count": 0,
      "outputs": [
        {
          "output_type": "execute_result",
          "data": {
            "text/html": [
              "<div>\n",
              "<style scoped>\n",
              "    .dataframe tbody tr th:only-of-type {\n",
              "        vertical-align: middle;\n",
              "    }\n",
              "\n",
              "    .dataframe tbody tr th {\n",
              "        vertical-align: top;\n",
              "    }\n",
              "\n",
              "    .dataframe thead th {\n",
              "        text-align: right;\n",
              "    }\n",
              "</style>\n",
              "<table border=\"1\" class=\"dataframe\">\n",
              "  <thead>\n",
              "    <tr style=\"text-align: right;\">\n",
              "      <th></th>\n",
              "      <th>score</th>\n",
              "    </tr>\n",
              "  </thead>\n",
              "  <tbody>\n",
              "    <tr>\n",
              "      <th>count</th>\n",
              "      <td>164751.000000</td>\n",
              "    </tr>\n",
              "    <tr>\n",
              "      <th>mean</th>\n",
              "      <td>2.245273</td>\n",
              "    </tr>\n",
              "    <tr>\n",
              "      <th>std</th>\n",
              "      <td>3.209472</td>\n",
              "    </tr>\n",
              "    <tr>\n",
              "      <th>min</th>\n",
              "      <td>-47.000000</td>\n",
              "    </tr>\n",
              "    <tr>\n",
              "      <th>25%</th>\n",
              "      <td>1.000000</td>\n",
              "    </tr>\n",
              "    <tr>\n",
              "      <th>50%</th>\n",
              "      <td>1.000000</td>\n",
              "    </tr>\n",
              "    <tr>\n",
              "      <th>75%</th>\n",
              "      <td>3.000000</td>\n",
              "    </tr>\n",
              "    <tr>\n",
              "      <th>max</th>\n",
              "      <td>171.000000</td>\n",
              "    </tr>\n",
              "  </tbody>\n",
              "</table>\n",
              "</div>"
            ],
            "text/plain": [
              "               score\n",
              "count  164751.000000\n",
              "mean        2.245273\n",
              "std         3.209472\n",
              "min       -47.000000\n",
              "25%         1.000000\n",
              "50%         1.000000\n",
              "75%         3.000000\n",
              "max       171.000000"
            ]
          },
          "metadata": {
            "tags": []
          },
          "execution_count": 3
        }
      ]
    },
    {
      "cell_type": "code",
      "metadata": {
        "id": "u0n7vCVReeB2",
        "colab_type": "code",
        "colab": {}
      },
      "source": [
        "def first_clean(text):\n",
        "    text = str(text)\n",
        "    text = text.replace('\\\\n',' ')\n",
        "    text = text.replace('&amp',' ')\n",
        "    text = text.replace(';#x200B;',' ')\n",
        "    text = text.replace('nbsp',' ')\n",
        "\n",
        "    return text\n",
        "df['body'] = df['body'].apply(lambda x : first_clean(x))"
      ],
      "execution_count": 0,
      "outputs": []
    },
    {
      "cell_type": "code",
      "metadata": {
        "id": "C5fkub6Be3Pa",
        "colab_type": "code",
        "colab": {}
      },
      "source": [
        "wordnet_lemmatizer = WordNetLemmatizer()\n",
        "stopwords_english = stopwords.words('english')"
      ],
      "execution_count": 0,
      "outputs": []
    },
    {
      "cell_type": "code",
      "metadata": {
        "id": "OropIQF2fHQf",
        "colab_type": "code",
        "colab": {}
      },
      "source": [
        "def clean_text(text): \n",
        "    #make string lowercase \n",
        "    text = str(text)\n",
        "    text = text.lower()\n",
        "    \n",
        "    #remove links\n",
        "    text = re.sub(r'^https?:\\/\\/.*[\\r\\n]*', '', text, flags=re.MULTILINE)\n",
        "\n",
        "    #tokenize\n",
        "    tokens = nltk.word_tokenize(text) \n",
        "    clean_text = []\n",
        "    \n",
        "    #remove stopwords, puncuation, then lemmatize\n",
        "    for word in tokens:\n",
        "        if (word not in stopwords_english and word not in string.punctuation): \n",
        "            token = wordnet_lemmatizer.lemmatize(word)\n",
        "            clean_text.append(token)\n",
        "            \n",
        "    #remove words of length 3 or smaller        \n",
        "    clean_text = [token for token in clean_text if len(token) > 3] \n",
        "            \n",
        "    return clean_text"
      ],
      "execution_count": 0,
      "outputs": []
    },
    {
      "cell_type": "code",
      "metadata": {
        "id": "ytFJrWEofNm6",
        "colab_type": "code",
        "colab": {}
      },
      "source": [
        "df['body_clean'] = df['body'].apply(lambda x : clean_text(x))"
      ],
      "execution_count": 0,
      "outputs": []
    },
    {
      "cell_type": "markdown",
      "metadata": {
        "id": "D2eik-H9g30A",
        "colab_type": "text"
      },
      "source": [
        "**remove comments < 5 words**"
      ]
    },
    {
      "cell_type": "code",
      "metadata": {
        "id": "ZuG9TQSggxlT",
        "colab_type": "code",
        "colab": {}
      },
      "source": [
        "df['body_length'] = df['body_clean'].apply(lambda x : len(x))\n",
        "df = df[df['body_length'] >= 5]"
      ],
      "execution_count": 0,
      "outputs": []
    },
    {
      "cell_type": "code",
      "metadata": {
        "id": "SS1Lm61QhA0F",
        "colab_type": "code",
        "colab": {}
      },
      "source": [
        "df = df.drop(columns=['body_length'])"
      ],
      "execution_count": 0,
      "outputs": []
    },
    {
      "cell_type": "markdown",
      "metadata": {
        "id": "wzkRZdl1hB15",
        "colab_type": "text"
      },
      "source": [
        "**creating Bi and Tri-grams**"
      ]
    },
    {
      "cell_type": "code",
      "metadata": {
        "id": "gMzbGklShFSF",
        "colab_type": "code",
        "colab": {}
      },
      "source": [
        "docs = df['body_clean']\n",
        "bigram = Phrases(docs, min_count=10)\n",
        "trigram = Phrases(bigram[docs])"
      ],
      "execution_count": 0,
      "outputs": []
    },
    {
      "cell_type": "code",
      "metadata": {
        "id": "4OPjEx6VhjYQ",
        "colab_type": "code",
        "colab": {}
      },
      "source": [
        "def add_ngram(doc): \n",
        "    return trigram[bigram[doc]]"
      ],
      "execution_count": 0,
      "outputs": []
    },
    {
      "cell_type": "code",
      "metadata": {
        "id": "gfw1gG7LhqDg",
        "colab_type": "code",
        "colab": {}
      },
      "source": [
        "df['body_ngrams'] = df['body_clean'].apply(lambda x : add_ngram(x))"
      ],
      "execution_count": 0,
      "outputs": []
    },
    {
      "cell_type": "markdown",
      "metadata": {
        "id": "YXo5CWF1iIGg",
        "colab_type": "text"
      },
      "source": [
        "## **Topic Model**"
      ]
    },
    {
      "cell_type": "code",
      "metadata": {
        "id": "1kAOB9d6iWTK",
        "colab_type": "code",
        "colab": {}
      },
      "source": [
        "!pip install pyLDAvis"
      ],
      "execution_count": 0,
      "outputs": []
    },
    {
      "cell_type": "code",
      "metadata": {
        "id": "Qgo2yJQhiL2E",
        "colab_type": "code",
        "colab": {}
      },
      "source": [
        "import matplotlib.pyplot as plt\n",
        "from datetime import datetime\n",
        "\n",
        "#language processsing \n",
        "from gensim.corpora import Dictionary\n",
        "from gensim.models import LdaModel\n",
        "from gensim.models import LdaMulticore\n",
        "from gensim.models.coherencemodel import CoherenceModel\n",
        "import pyLDAvis.gensim\n",
        "pyLDAvis.enable_notebook()\n",
        "\n",
        "import warnings\n",
        "warnings.filterwarnings('ignore')\n",
        "\n",
        "from tqdm import tqdm\n",
        "%matplotlib inline"
      ],
      "execution_count": 0,
      "outputs": []
    },
    {
      "cell_type": "code",
      "metadata": {
        "id": "ijsKxOLOitKV",
        "colab_type": "code",
        "outputId": "c5cbc837-daf6-42e6-8496-b679a95413b5",
        "colab": {
          "base_uri": "https://localhost:8080/",
          "height": 72
        }
      },
      "source": [
        "comments = df['body_clean']\n",
        "dictionary = Dictionary(comments)\n",
        "dictionary.filter_extremes(no_below=20, no_above=0.5)\n",
        "\n",
        "corpus = [dictionary.doc2bow(doc) for doc in comments]\n",
        "\n",
        "print('Number of unique tokens: %d' % len(dictionary))\n",
        "print('Number of documents: %d' % len(corpus))"
      ],
      "execution_count": 0,
      "outputs": [
        {
          "output_type": "stream",
          "text": [
            "Number of unique tokens: 8589\n",
            "Number of documents: 159601\n"
          ],
          "name": "stdout"
        }
      ]
    },
    {
      "cell_type": "code",
      "metadata": {
        "id": "4_RXj0jwj8Fk",
        "colab_type": "code",
        "outputId": "e285d33d-f7ae-4e65-ddce-4859003d17ef",
        "colab": {
          "base_uri": "https://localhost:8080/",
          "height": 72
        }
      },
      "source": [
        "num_topics = 10\n",
        "chunksize = 2000\n",
        "passes = 20\n",
        "iterations = 400\n",
        "eval_every = 1 \n",
        "temp = dictionary[0]  # This is only to \"load\" the dictionary.\n",
        "id2word = dictionary.id2token\n",
        "\n",
        "# index to word dictionary\n",
        "%time model = LdaModel(corpus=corpus, id2word=id2word, chunksize=chunksize, \\\n",
        "                       alpha='auto', eta='auto', \\\n",
        "                       iterations=iterations, num_topics=num_topics, \\\n",
        "                       passes=passes, eval_every=eval_every)\n"
      ],
      "execution_count": 0,
      "outputs": [
        {
          "output_type": "stream",
          "text": [
            "CPU times: user 26min 42s, sys: 464 ms, total: 26min 43s\n",
            "Wall time: 26min 44s\n"
          ],
          "name": "stdout"
        }
      ]
    },
    {
      "cell_type": "code",
      "metadata": {
        "id": "1yQpwldcny9M",
        "colab_type": "code",
        "colab": {}
      },
      "source": [
        "vis =  pyLDAvis.gensim.prepare(model, corpus, dictionary)"
      ],
      "execution_count": 0,
      "outputs": []
    },
    {
      "cell_type": "code",
      "metadata": {
        "id": "zLPhJ9u6n1So",
        "colab_type": "code",
        "outputId": "7d6d0ce3-b3e4-4bfd-d4d9-670390e16604",
        "colab": {
          "base_uri": "https://localhost:8080/",
          "height": 881
        }
      },
      "source": [
        "vis"
      ],
      "execution_count": 0,
      "outputs": [
        {
          "output_type": "execute_result",
          "data": {
            "text/html": [
              "\n",
              "<link rel=\"stylesheet\" type=\"text/css\" href=\"https://cdn.rawgit.com/bmabey/pyLDAvis/files/ldavis.v1.0.0.css\">\n",
              "\n",
              "\n",
              "<div id=\"ldavis_el1221399575539907761890032927\"></div>\n",
              "<script type=\"text/javascript\">\n",
              "\n",
              "var ldavis_el1221399575539907761890032927_data = {\"mdsDat\": {\"x\": [0.10267249683626418, 0.14207028574795347, 0.1464031351906207, 0.14983990582403406, 0.13664451997560362, 0.12865425399604116, -0.15997150960144896, -0.2817487283160962, -0.1946347584632567, -0.16992960118971528], \"y\": [-0.11138422637206435, -0.042062821688917285, -0.049793604162950804, 0.0083171723648659, 0.11557937102725488, 0.0652240989270308, -0.06105183521880159, -0.1059670367808508, 0.3873988872434148, -0.20626000533898167], \"topics\": [1, 2, 3, 4, 5, 6, 7, 8, 9, 10], \"cluster\": [1, 1, 1, 1, 1, 1, 1, 1, 1, 1], \"Freq\": [38.81103515625, 14.637109756469727, 11.711477279663086, 9.695613861083984, 6.856090545654297, 4.743123531341553, 4.284032344818115, 3.7505342960357666, 3.0927090644836426, 2.418285846710205]}, \"tinfo\": {\"Category\": [\"Default\", \"Default\", \"Default\", \"Default\", \"Default\", \"Default\", \"Default\", \"Default\", \"Default\", \"Default\", \"Default\", \"Default\", \"Default\", \"Default\", \"Default\", \"Default\", \"Default\", \"Default\", \"Default\", \"Default\", \"Default\", \"Default\", \"Default\", \"Default\", \"Default\", \"Default\", \"Default\", \"Default\", \"Default\", \"Default\", \"Topic1\", \"Topic1\", \"Topic1\", \"Topic1\", \"Topic1\", \"Topic1\", \"Topic1\", \"Topic1\", \"Topic1\", \"Topic1\", \"Topic1\", \"Topic1\", \"Topic1\", \"Topic1\", \"Topic1\", \"Topic1\", \"Topic1\", \"Topic1\", \"Topic1\", \"Topic1\", \"Topic1\", \"Topic1\", \"Topic1\", \"Topic1\", \"Topic1\", \"Topic1\", \"Topic1\", \"Topic1\", \"Topic1\", \"Topic1\", \"Topic1\", \"Topic1\", \"Topic1\", \"Topic1\", \"Topic1\", \"Topic1\", \"Topic1\", \"Topic1\", \"Topic1\", \"Topic1\", \"Topic1\", \"Topic1\", \"Topic1\", \"Topic1\", \"Topic2\", \"Topic2\", \"Topic2\", \"Topic2\", \"Topic2\", \"Topic2\", \"Topic2\", \"Topic2\", \"Topic2\", \"Topic2\", \"Topic2\", \"Topic2\", \"Topic2\", \"Topic2\", \"Topic2\", \"Topic2\", \"Topic2\", \"Topic2\", \"Topic2\", \"Topic2\", \"Topic2\", \"Topic2\", \"Topic2\", \"Topic2\", \"Topic2\", \"Topic2\", \"Topic2\", \"Topic2\", \"Topic2\", \"Topic2\", \"Topic2\", \"Topic2\", \"Topic2\", \"Topic2\", \"Topic2\", \"Topic2\", \"Topic2\", \"Topic2\", \"Topic2\", \"Topic2\", \"Topic2\", \"Topic2\", \"Topic2\", \"Topic2\", \"Topic2\", \"Topic2\", \"Topic2\", \"Topic2\", \"Topic2\", \"Topic2\", \"Topic2\", \"Topic2\", \"Topic2\", \"Topic2\", \"Topic2\", \"Topic2\", \"Topic2\", \"Topic3\", \"Topic3\", \"Topic3\", \"Topic3\", \"Topic3\", \"Topic3\", \"Topic3\", \"Topic3\", \"Topic3\", \"Topic3\", \"Topic3\", \"Topic3\", \"Topic3\", \"Topic3\", \"Topic3\", \"Topic3\", \"Topic3\", \"Topic3\", \"Topic3\", \"Topic3\", \"Topic3\", \"Topic3\", \"Topic3\", \"Topic3\", \"Topic3\", \"Topic3\", \"Topic3\", \"Topic3\", \"Topic3\", \"Topic3\", \"Topic3\", \"Topic3\", \"Topic3\", \"Topic3\", \"Topic3\", \"Topic3\", \"Topic3\", \"Topic3\", \"Topic3\", \"Topic3\", \"Topic3\", \"Topic3\", \"Topic3\", \"Topic3\", \"Topic3\", \"Topic3\", \"Topic3\", \"Topic3\", \"Topic3\", \"Topic3\", \"Topic3\", \"Topic4\", \"Topic4\", \"Topic4\", \"Topic4\", \"Topic4\", \"Topic4\", \"Topic4\", \"Topic4\", \"Topic4\", \"Topic4\", \"Topic4\", \"Topic4\", \"Topic4\", \"Topic4\", \"Topic4\", \"Topic4\", \"Topic4\", \"Topic4\", \"Topic4\", \"Topic4\", \"Topic4\", \"Topic4\", \"Topic4\", \"Topic4\", \"Topic4\", \"Topic4\", \"Topic4\", \"Topic4\", \"Topic4\", \"Topic4\", \"Topic4\", \"Topic4\", \"Topic4\", \"Topic4\", \"Topic4\", \"Topic4\", \"Topic4\", \"Topic4\", \"Topic4\", \"Topic4\", \"Topic4\", \"Topic4\", \"Topic4\", \"Topic4\", \"Topic4\", \"Topic4\", \"Topic4\", \"Topic4\", \"Topic4\", \"Topic4\", \"Topic4\", \"Topic4\", \"Topic4\", \"Topic4\", \"Topic5\", \"Topic5\", \"Topic5\", \"Topic5\", \"Topic5\", \"Topic5\", \"Topic5\", \"Topic5\", \"Topic5\", \"Topic5\", \"Topic5\", \"Topic5\", \"Topic5\", \"Topic5\", \"Topic5\", \"Topic5\", \"Topic5\", \"Topic5\", \"Topic5\", \"Topic5\", \"Topic5\", \"Topic5\", \"Topic5\", \"Topic5\", \"Topic5\", \"Topic5\", \"Topic5\", \"Topic5\", \"Topic5\", \"Topic5\", \"Topic5\", \"Topic5\", \"Topic5\", \"Topic5\", \"Topic5\", \"Topic5\", \"Topic5\", \"Topic5\", \"Topic5\", \"Topic5\", \"Topic5\", \"Topic5\", \"Topic5\", \"Topic5\", \"Topic6\", \"Topic6\", \"Topic6\", \"Topic6\", \"Topic6\", \"Topic6\", \"Topic6\", \"Topic6\", \"Topic6\", \"Topic6\", \"Topic6\", \"Topic6\", \"Topic6\", \"Topic6\", \"Topic6\", \"Topic6\", \"Topic6\", \"Topic6\", \"Topic6\", \"Topic6\", \"Topic6\", \"Topic6\", \"Topic6\", \"Topic6\", \"Topic6\", \"Topic6\", \"Topic6\", \"Topic6\", \"Topic6\", \"Topic6\", \"Topic6\", \"Topic6\", \"Topic6\", \"Topic6\", \"Topic6\", \"Topic6\", \"Topic6\", \"Topic6\", \"Topic6\", \"Topic6\", \"Topic6\", \"Topic6\", \"Topic6\", \"Topic6\", \"Topic6\", \"Topic6\", \"Topic7\", \"Topic7\", \"Topic7\", \"Topic7\", \"Topic7\", \"Topic7\", \"Topic7\", \"Topic7\", \"Topic7\", \"Topic7\", \"Topic7\", \"Topic7\", \"Topic7\", \"Topic7\", \"Topic7\", \"Topic7\", \"Topic7\", \"Topic7\", \"Topic7\", \"Topic7\", \"Topic7\", \"Topic7\", \"Topic7\", \"Topic7\", \"Topic7\", \"Topic7\", \"Topic7\", \"Topic7\", \"Topic7\", \"Topic7\", \"Topic7\", \"Topic7\", \"Topic7\", \"Topic7\", \"Topic7\", \"Topic7\", \"Topic7\", \"Topic8\", \"Topic8\", \"Topic8\", \"Topic8\", \"Topic8\", \"Topic8\", \"Topic8\", \"Topic8\", \"Topic8\", \"Topic8\", \"Topic8\", \"Topic8\", \"Topic8\", \"Topic8\", \"Topic8\", \"Topic8\", \"Topic8\", \"Topic8\", \"Topic8\", \"Topic8\", \"Topic8\", \"Topic8\", \"Topic8\", \"Topic8\", \"Topic8\", \"Topic8\", \"Topic8\", \"Topic8\", \"Topic8\", \"Topic8\", \"Topic8\", \"Topic8\", \"Topic8\", \"Topic8\", \"Topic9\", \"Topic9\", \"Topic9\", \"Topic9\", \"Topic9\", \"Topic9\", \"Topic9\", \"Topic9\", \"Topic9\", \"Topic9\", \"Topic9\", \"Topic9\", \"Topic9\", \"Topic9\", \"Topic9\", \"Topic9\", \"Topic9\", \"Topic9\", \"Topic9\", \"Topic9\", \"Topic9\", \"Topic9\", \"Topic9\", \"Topic9\", \"Topic9\", \"Topic9\", \"Topic9\", \"Topic9\", \"Topic9\", \"Topic9\", \"Topic9\", \"Topic9\", \"Topic9\", \"Topic9\", \"Topic9\", \"Topic9\", \"Topic10\", \"Topic10\", \"Topic10\", \"Topic10\", \"Topic10\", \"Topic10\", \"Topic10\", \"Topic10\", \"Topic10\", \"Topic10\", \"Topic10\", \"Topic10\", \"Topic10\", \"Topic10\", \"Topic10\", \"Topic10\", \"Topic10\", \"Topic10\", \"Topic10\", \"Topic10\", \"Topic10\", \"Topic10\", \"Topic10\", \"Topic10\", \"Topic10\", \"Topic10\", \"Topic10\", \"Topic10\", \"Topic10\", \"Topic10\", \"Topic10\", \"Topic10\", \"Topic10\", \"Topic10\", \"Topic10\", \"Topic10\", \"Topic10\"], \"Freq\": [113699.0, 53897.0, 63842.0, 38411.0, 61022.0, 27247.0, 29993.0, 16823.0, 15851.0, 20922.0, 13166.0, 14828.0, 18109.0, 27672.0, 17713.0, 17601.0, 67595.0, 17470.0, 28084.0, 36978.0, 12802.0, 14329.0, 15547.0, 8367.0, 9204.0, 10763.0, 15857.0, 9231.0, 14062.0, 16521.0, 36978.109375, 28076.21484375, 26204.90234375, 26066.833984375, 24212.7421875, 22032.630859375, 20158.953125, 19045.67578125, 17730.212890625, 16949.39453125, 16089.2236328125, 14966.1376953125, 13861.6865234375, 13633.8037109375, 12904.1337890625, 12863.09765625, 12758.794921875, 12534.2578125, 10555.876953125, 10806.48828125, 10197.01953125, 9135.32421875, 9609.7705078125, 7884.1552734375, 8731.7578125, 7527.1298828125, 7407.5341796875, 11160.3076171875, 6897.45458984375, 6737.21484375, 23075.205078125, 22988.52734375, 21987.9140625, 11457.4970703125, 9455.9677734375, 12768.7158203125, 57917.9765625, 18158.220703125, 25401.8125, 21485.55078125, 12437.2197265625, 15444.6708984375, 12038.3232421875, 12130.8408203125, 63841.97265625, 20921.9375, 12258.349609375, 9718.42578125, 8931.4453125, 5286.86669921875, 4889.1201171875, 4522.53662109375, 3898.2861328125, 3763.298095703125, 3689.762939453125, 3970.097412109375, 2700.723876953125, 2693.853759765625, 2647.4580078125, 2308.25830078125, 2178.684814453125, 2169.267333984375, 1756.892578125, 1695.9794921875, 1622.185791015625, 1617.8016357421875, 1560.887451171875, 1524.7991943359375, 1503.797119140625, 1407.924072265625, 1318.25244140625, 1304.0062255859375, 1305.2996826171875, 1268.119384765625, 4856.32568359375, 2538.409423828125, 4662.77978515625, 2889.7548828125, 103253.078125, 3208.988037109375, 2379.764404296875, 11602.337890625, 9143.9052734375, 12246.4794921875, 13847.30859375, 2827.654296875, 43971.765625, 11300.09375, 11314.455078125, 3919.580810546875, 3140.7197265625, 8141.3857421875, 14191.9423828125, 9636.7841796875, 9214.533203125, 4254.61474609375, 7798.9013671875, 5215.0087890625, 5689.490234375, 5397.974609375, 3936.944580078125, 17601.05859375, 17713.369140625, 8484.7880859375, 7253.18017578125, 6645.80810546875, 5919.92529296875, 5363.732421875, 5264.9169921875, 5056.708984375, 4966.81640625, 4824.76171875, 4134.44189453125, 3790.904052734375, 3773.460205078125, 3707.291015625, 3513.06884765625, 3492.649169921875, 3142.2587890625, 3064.672607421875, 3001.130615234375, 2994.28515625, 2749.148681640625, 2715.864990234375, 2706.099853515625, 2478.318115234375, 2362.2373046875, 2370.017578125, 2013.3447265625, 1982.8016357421875, 1832.8958740234375, 27242.06640625, 11590.30859375, 10799.365234375, 7072.8359375, 5770.7890625, 6190.85986328125, 5788.47509765625, 3497.373291015625, 17989.423828125, 6442.37158203125, 4122.44482421875, 4416.5732421875, 8572.5146484375, 5942.388671875, 17050.3046875, 6691.21923828125, 5226.97412109375, 5273.91259765625, 4661.23681640625, 4943.15625, 4175.66162109375, 53897.6484375, 38411.015625, 10287.673828125, 9305.7548828125, 5371.38427734375, 4068.64013671875, 3568.476806640625, 3510.37744140625, 3265.149658203125, 3022.050048828125, 2748.76318359375, 2457.380859375, 2298.13818359375, 2278.745849609375, 2258.9658203125, 2242.34912109375, 2135.53759765625, 2052.04248046875, 1812.1070556640625, 1780.07373046875, 1759.9500732421875, 1630.574951171875, 1614.1160888671875, 1511.720458984375, 1490.2442626953125, 1480.821044921875, 1445.141357421875, 1450.5084228515625, 1437.8787841796875, 1366.505615234375, 8927.373046875, 5144.6962890625, 1518.500732421875, 12675.1689453125, 5623.46630859375, 7719.08642578125, 5660.41650390625, 9473.681640625, 7557.31201171875, 11920.4736328125, 3023.609130859375, 14890.2294921875, 2236.05712890625, 3156.68017578125, 2997.132568359375, 5872.4404296875, 4873.27978515625, 6331.07421875, 5063.13916015625, 2894.394775390625, 6053.7744140625, 4696.20703125, 3453.5615234375, 3219.11474609375, 15851.59375, 14828.3369140625, 12802.8388671875, 8534.9951171875, 6736.9150390625, 4292.8388671875, 4210.4404296875, 3811.63818359375, 3207.08154296875, 3152.007080078125, 2891.49853515625, 2825.168701171875, 2633.330810546875, 2606.91943359375, 2602.465576171875, 2443.352294921875, 2358.384033203125, 2258.744384765625, 2214.668701171875, 1857.6629638671875, 1779.298828125, 1534.2852783203125, 1514.5731201171875, 1477.05517578125, 1428.5594482421875, 1423.35595703125, 1398.4820556640625, 1326.887939453125, 1290.78466796875, 1248.3673095703125, 10729.736328125, 3730.44482421875, 14661.1982421875, 10205.2353515625, 14849.0205078125, 3059.744384765625, 2136.312255859375, 10026.94921875, 3971.033935546875, 3455.325439453125, 2608.5537109375, 2454.130615234375, 2669.83935546875, 2516.6884765625, 13166.439453125, 9231.1396484375, 8354.62109375, 6149.16455078125, 5738.787109375, 5285.625, 4271.82666015625, 3983.330078125, 3854.779541015625, 3245.201904296875, 2769.609130859375, 2454.346435546875, 2262.1865234375, 2140.0478515625, 1865.12109375, 1841.79296875, 1588.73046875, 1529.573974609375, 1494.7471923828125, 1373.8251953125, 1359.6756591796875, 1302.7137451171875, 1223.79638671875, 1190.0028076171875, 1193.52001953125, 1169.727783203125, 1145.679931640625, 1090.518310546875, 1036.993896484375, 889.3265991210938, 973.984130859375, 2166.847900390625, 1657.340576171875, 2643.47265625, 3319.96826171875, 1713.8912353515625, 3225.28173828125, 1718.43896484375, 2613.646240234375, 1857.9029541015625, 3325.93359375, 1990.69921875, 2670.8623046875, 1869.5482177734375, 1831.5609130859375, 1715.508544921875, 16823.109375, 7243.48583984375, 7121.2509765625, 5389.1943359375, 5098.8994140625, 5148.0263671875, 4884.330078125, 4419.2353515625, 3819.9365234375, 3747.641845703125, 7286.740234375, 2896.641357421875, 2855.039794921875, 2805.55224609375, 2722.9853515625, 2684.674072265625, 2524.766357421875, 2516.6083984375, 2267.608154296875, 2144.94384765625, 2086.97802734375, 2067.156005859375, 1893.34130859375, 1873.3687744140625, 1837.9029541015625, 1775.2242431640625, 1764.22216796875, 1669.12158203125, 1594.13525390625, 1379.6038818359375, 9149.3603515625, 3623.041015625, 3555.350341796875, 3550.29296875, 2498.341552734375, 2707.046875, 2340.462158203125, 5732.978515625, 5678.580078125, 5339.40478515625, 4831.466796875, 4414.0322265625, 4248.28125, 4234.9833984375, 4221.5869140625, 3711.112060546875, 3487.555908203125, 3370.833740234375, 3181.136474609375, 3128.760498046875, 2485.884765625, 2457.553955078125, 2286.78271484375, 2244.102294921875, 2209.034912109375, 2162.73046875, 2094.682373046875, 1856.6160888671875, 1758.5235595703125, 1655.237060546875, 1446.520751953125, 1425.5718994140625, 1348.6993408203125, 1318.51318359375, 1297.8297119140625, 1290.530029296875, 1288.4971923828125, 3791.9599609375, 2130.679931640625, 2594.79638671875, 1349.024169921875, 8366.908203125, 6091.69580078125, 5573.1123046875, 4773.32373046875, 4672.43408203125, 2456.624267578125, 2419.487060546875, 2226.090576171875, 1963.8726806640625, 1666.3719482421875, 1644.00341796875, 1635.642333984375, 1544.62451171875, 1535.382080078125, 1339.410888671875, 1231.5048828125, 1196.461669921875, 1145.42431640625, 1121.9603271484375, 1091.1192626953125, 1088.1396484375, 956.70458984375, 937.4535522460938, 940.2462158203125, 920.8189697265625, 869.206298828125, 866.1527709960938, 843.2119750976562, 841.4381103515625, 827.3982543945312, 932.130859375, 913.0189819335938, 7752.494140625, 1332.8360595703125, 1654.6622314453125, 5162.95654296875, 3687.343505859375, 3308.795166015625, 3153.56640625, 2858.733642578125, 2990.7041015625, 2810.53466796875, 2362.59716796875, 2185.38525390625, 2114.37158203125, 2005.662109375, 1741.0067138671875, 1714.781982421875, 1626.931396484375, 1583.9549560546875, 1514.1883544921875, 1471.9832763671875, 1330.474609375, 1235.1568603515625, 1212.2510986328125, 1091.5201416015625, 916.6425170898438, 903.9290161132812, 820.084716796875, 1086.19482421875, 784.0432739257812, 779.764404296875, 757.8328857421875, 705.8579711914062, 703.3981323242188, 693.8922729492188, 918.8701782226562, 1037.1971435546875, 2187.6943359375, 2083.19580078125, 1554.6531982421875, 1014.7534790039062, 1213.7645263671875], \"Term\": [\"insurance\", \"policy\", \"claim\", \"coverage\", \"company\", \"year\", \"vehicle\", \"call\", \"value\", \"accident\", \"plan\", \"shop\", \"cost\", \"damage\", \"agent\", \"rate\", \"would\", \"adjuster\", \"state\", \"like\", \"repair\", \"fault\", \"loss\", \"injury\", \"check\", \"part\", \"liability\", \"bill\", \"cover\", \"deductible\", \"like\", \"time\", \"make\", \"know\", \"going\", \"want\", \"thing\", \"people\", \"much\", \"think\", \"sure\", \"really\", \"something\", \"might\", \"someone\", \"probably\", \"well\", \"money\", \"getting\", \"help\", \"question\", \"though\", \"come\", \"long\", \"point\", \"maybe\", \"sound\", \"never\", \"answer\", \"pretty\", \"could\", \"work\", \"even\", \"look\", \"issue\", \"still\", \"would\", \"take\", \"need\", \"also\", \"right\", \"good\", \"since\", \"back\", \"claim\", \"accident\", \"file\", \"party\", \"report\", \"police\", \"court\", \"handle\", \"fraud\", \"responsible\", \"involved\", \"legal\", \"filing\", \"deny\", \"filed\", \"evidence\", \"third\", \"fixed\", \"agreement\", \"investigation\", \"pursue\", \"handled\", \"supervisor\", \"at-fault\", \"denial\", \"incident\", \"recover\", \"fight\", \"witness\", \"collect\", \"contract\", \"responsibility\", \"whether\", \"accept\", \"insurance\", \"statement\", \"regardless\", \"insurer\", \"person\", \"fault\", \"deductible\", \"denied\", \"company\", \"case\", \"likely\", \"happened\", \"prove\", \"paid\", \"damage\", \"adjuster\", \"driver\", \"small\", \"carrier\", \"unless\", \"insured\", \"state\", \"liability\", \"rate\", \"agent\", \"risk\", \"business\", \"quote\", \"higher\", \"increase\", \"geico\", \"client\", \"discount\", \"license\", \"broker\", \"local\", \"credit\", \"independent\", \"progressive\", \"farm\", \"factor\", \"current\", \"history\", \"agency\", \"multiple\", \"cheaper\", \"industry\", \"underwriting\", \"renewal\", \"major\", \"product\", \"allstate\", \"usaa\", \"year\", \"premium\", \"different\", \"high\", \"experience\", \"change\", \"customer\", \"lower\", \"state\", \"around\", \"expensive\", \"area\", \"carrier\", \"many\", \"company\", \"month\", \"driving\", \"every\", \"price\", \"find\", \"best\", \"policy\", \"coverage\", \"limit\", \"property\", \"owner\", \"homeowner\", \"listed\", \"water\", \"minimum\", \"salvage\", \"fire\", \"comprehensive\", \"renter\", \"added\", \"carry\", \"uninsured\", \"tree\", \"umbrella\", \"lane\", \"flood\", \"endorsement\", \"exclusion\", \"language\", \"household\", \"named\", \"building\", \"lien\", \"excluded\", \"rent\", \"theft\", \"home\", \"house\", \"neighbor\", \"cover\", \"drive\", \"rental\", \"personal\", \"covered\", \"auto\", \"liability\", \"require\", \"vehicle\", \"purchase\", \"parent\", \"event\", \"insured\", \"collision\", \"driver\", \"loss\", \"additional\", \"would\", \"state\", \"damage\", \"need\", \"value\", \"shop\", \"repair\", \"total\", \"estimate\", \"actual\", \"replacement\", \"body\", \"loan\", \"title\", \"roof\", \"bumper\", \"item\", \"damaged\", \"totaled\", \"contractor\", \"replace\", \"mile\", \"dealer\", \"release\", \"repaired\", \"paint\", \"diminished\", \"inspection\", \"brand\", \"mileage\", \"dealership\", \"replaced\", \"hail\", \"threshold\", \"part\", \"cash\", \"cost\", \"loss\", \"vehicle\", \"condition\", \"truck\", \"damage\", \"worth\", \"amount\", \"price\", \"used\", \"adjuster\", \"paid\", \"plan\", \"bill\", \"medical\", \"health\", \"doctor\", \"benefit\", \"provider\", \"employer\", \"network\", \"hospital\", \"employee\", \"income\", \"visit\", \"child\", \"patient\", \"dental\", \"medicaid\", \"procedure\", \"surgery\", \"healthcare\", \"medicare\", \"enrollment\", \"death\", \"uber\", \"eligible\", \"dentist\", \"disability\", \"dependent\", \"billed\", \"tesla\", \"debt\", \"code\", \"group\", \"family\", \"care\", \"individual\", \"life\", \"treatment\", \"service\", \"expense\", \"cost\", \"office\", \"deductible\", \"amount\", \"covered\", \"term\", \"call\", \"information\", \"number\", \"called\", \"send\", \"contact\", \"info\", \"phone\", \"date\", \"letter\", \"payment\", \"department\", \"sent\", \"card\", \"request\", \"review\", \"copy\", \"address\", \"calling\", \"notice\", \"cancel\", \"document\", \"email\", \"received\", \"signed\", \"bank\", \"billing\", \"complaint\", \"writing\", \"paperwork\", \"check\", \"sign\", \"name\", \"provide\", \"form\", \"office\", \"process\", \"told\", \"week\", \"thanks\", \"advice\", \"friend\", \"thank\", \"went\", \"post\", \"yeah\", \"took\", \"asked\", \"hour\", \"thought\", \"wanted\", \"started\", \"heard\", \"came\", \"comment\", \"response\", \"gave\", \"mine\", \"tried\", \"today\", \"manager\", \"practice\", \"helpful\", \"reply\", \"knowledge\", \"learn\", \"knew\", \"found\", \"test\", \"read\", \"said\", \"injury\", \"attorney\", \"lawyer\", \"settlement\", \"http\", \"position\", \"settle\", \"pain\", \"tire\", \"hire\", \"public\", \"bodily\", \"valuation\", \"injured\", \"demand\", \"wage\", \"judge\", \"management\", \"didnt\", \"worker\", \"present\", \"tier\", \"jury\", \"training\", \"team\", \"compensation\", \"firm\", \"link\", \"suffering\", \"hired\", \"statute\", \"limitation\", \"offer\", \"negotiate\", \"lost\", \"adjuster\", \"front\", \"stop\", \"left\", \"road\", \"impact\", \"turn\", \"rear\", \"door\", \"ended\", \"negligence\", \"control\", \"light\", \"safe\", \"behind\", \"video\", \"parking\", \"traffic\", \"speed\", \"parked\", \"stopped\", \"arbitration\", \"maintenance\", \"delivery\", \"argue\", \"maintain\", \"failed\", \"brake\", \"recorded\", \"windshield\", \"pulled\", \"foot\", \"spot\", \"side\", \"fault\", \"driver\", \"avoid\", \"driving\"], \"Total\": [113699.0, 53897.0, 63842.0, 38411.0, 61022.0, 27247.0, 29993.0, 16823.0, 15851.0, 20922.0, 13166.0, 14828.0, 18109.0, 27672.0, 17713.0, 17601.0, 67595.0, 17470.0, 28084.0, 36978.0, 12802.0, 14329.0, 15547.0, 8367.0, 9204.0, 10763.0, 15857.0, 9231.0, 14062.0, 16521.0, 36978.25, 28076.353515625, 26205.041015625, 26066.97265625, 24212.8828125, 22032.76953125, 20159.091796875, 19045.814453125, 17730.3515625, 16949.533203125, 16089.361328125, 14966.2744140625, 13861.822265625, 13633.9453125, 12904.26953125, 12863.2373046875, 12758.9365234375, 12534.3984375, 10556.0126953125, 10806.62890625, 10197.15625, 9135.4599609375, 9609.9296875, 7884.29052734375, 8731.9130859375, 7527.26513671875, 7407.66943359375, 11160.5205078125, 6897.58984375, 6737.35009765625, 23079.3203125, 22992.494140625, 22020.666015625, 11470.4970703125, 9472.0927734375, 13061.5478515625, 67595.5703125, 19317.490234375, 28621.208984375, 24746.009765625, 13162.802734375, 17755.65625, 12875.8818359375, 14083.3271484375, 63842.11328125, 20922.076171875, 12258.486328125, 9718.5615234375, 8931.5810546875, 5287.001953125, 4889.25439453125, 4522.6708984375, 3898.419677734375, 3763.431640625, 3689.896240234375, 3970.246337890625, 2700.857177734375, 2693.987060546875, 2647.591064453125, 2308.391357421875, 2178.8173828125, 2169.400146484375, 1757.0242919921875, 1696.1114501953125, 1622.3175048828125, 1617.933349609375, 1561.0191650390625, 1524.930908203125, 1503.9288330078125, 1408.0557861328125, 1318.384033203125, 1304.1378173828125, 1305.431396484375, 1268.2509765625, 4885.6357421875, 2544.125244140625, 4702.61669921875, 2911.36962890625, 113699.46875, 3270.746337890625, 2425.273681640625, 13125.6455078125, 10293.17578125, 14329.94921875, 16521.466796875, 2958.669921875, 61022.35546875, 14069.5244140625, 14134.5380859375, 4254.19921875, 3366.10693359375, 11943.7333984375, 27672.892578125, 17470.005859375, 17100.681640625, 5489.125, 16371.6943359375, 8306.3017578125, 11562.2060546875, 28084.0390625, 15857.6953125, 17601.197265625, 17713.5078125, 8484.9208984375, 7253.31494140625, 6645.9423828125, 5920.0595703125, 5363.86669921875, 5265.05126953125, 5056.8427734375, 4966.95068359375, 4824.89599609375, 4134.57568359375, 3791.037109375, 3773.59326171875, 3707.424072265625, 3513.201904296875, 3492.7822265625, 3142.3916015625, 3064.805419921875, 3001.263427734375, 2994.41796875, 2749.28173828125, 2715.997802734375, 2706.232666015625, 2478.450927734375, 2362.369873046875, 2370.15283203125, 2013.47705078125, 1982.9339599609375, 1833.027099609375, 27247.533203125, 11626.0400390625, 10841.82421875, 7097.26513671875, 5781.15869140625, 6945.84228515625, 6512.1220703125, 3665.464599609375, 28084.0390625, 7869.54931640625, 4689.5732421875, 5488.001953125, 16371.6943359375, 9050.4189453125, 61022.35546875, 12310.0703125, 8419.791015625, 8620.2939453125, 7270.06201171875, 12565.7255859375, 8889.1796875, 53897.7890625, 38411.15625, 10287.810546875, 9305.8916015625, 5371.51953125, 4068.773681640625, 3568.6103515625, 3510.513427734375, 3265.283203125, 3022.18359375, 2748.896240234375, 2457.513916015625, 2298.271484375, 2278.87841796875, 2259.098876953125, 2242.482666015625, 2135.670166015625, 2052.175048828125, 1812.2393798828125, 1780.2059326171875, 1760.0823974609375, 1630.707275390625, 1614.248046875, 1511.8525390625, 1490.3763427734375, 1480.9530029296875, 1445.27294921875, 1450.6405029296875, 1438.0107421875, 1366.637451171875, 8931.3740234375, 5166.53515625, 1518.6619873046875, 14062.4716796875, 6030.71728515625, 8423.53515625, 6122.6845703125, 11305.515625, 9346.498046875, 15857.6953125, 3384.95751953125, 29993.984375, 2403.35791015625, 3929.428955078125, 3731.14208984375, 11562.2060546875, 8695.9833984375, 17100.681640625, 15547.259765625, 4126.07470703125, 67595.5703125, 28084.0390625, 27672.892578125, 28621.208984375, 15851.7314453125, 14828.4736328125, 12802.9755859375, 8535.1298828125, 6737.05078125, 4292.97607421875, 4210.5751953125, 3811.7724609375, 3207.2158203125, 3152.141357421875, 2891.6328125, 2825.302490234375, 2633.465087890625, 2607.053466796875, 2602.599365234375, 2443.486083984375, 2358.517822265625, 2258.877685546875, 2214.8017578125, 1857.7960205078125, 1779.431884765625, 1534.417724609375, 1514.7056884765625, 1477.187744140625, 1428.6920166015625, 1423.48876953125, 1398.614501953125, 1327.0205078125, 1290.917236328125, 1248.49951171875, 10763.7578125, 3886.69189453125, 18109.162109375, 15547.259765625, 29993.984375, 4112.3876953125, 2506.010009765625, 27672.892578125, 8769.109375, 10395.2060546875, 7270.06201171875, 6383.66796875, 17470.005859375, 11943.7333984375, 13166.576171875, 9231.275390625, 8354.7548828125, 6149.2998046875, 5738.92236328125, 5285.76025390625, 4271.96142578125, 3983.4638671875, 3854.9130859375, 3245.33544921875, 2769.742431640625, 2454.4794921875, 2262.319580078125, 2140.180419921875, 1865.2535400390625, 1841.925048828125, 1588.8624267578125, 1529.7060546875, 1494.8790283203125, 1373.9564208984375, 1359.8070068359375, 1302.845703125, 1223.92822265625, 1190.133544921875, 1193.65185546875, 1169.859130859375, 1145.811279296875, 1090.6497802734375, 1037.125244140625, 889.455810546875, 975.2008666992188, 2585.28125, 1879.566162109375, 3581.382568359375, 6907.23583984375, 2288.927001953125, 8488.7412109375, 2452.525146484375, 6506.48779296875, 3139.484619140625, 18109.162109375, 4698.0126953125, 16521.466796875, 10395.2060546875, 11305.515625, 6008.48388671875, 16823.24609375, 7243.62060546875, 7121.3857421875, 5389.32958984375, 5099.03271484375, 5148.1640625, 4884.46337890625, 4419.36865234375, 3820.0693359375, 3747.774658203125, 7287.00927734375, 2896.77392578125, 2855.172119140625, 2805.684814453125, 2723.117431640625, 2684.810302734375, 2524.8984375, 2516.74072265625, 2267.740234375, 2145.07568359375, 2087.110107421875, 2067.287841796875, 1893.4727783203125, 1873.500244140625, 1838.0343017578125, 1775.355712890625, 1764.353759765625, 1669.2530517578125, 1594.266845703125, 1379.7349853515625, 9204.6044921875, 4010.92919921875, 4771.345703125, 5191.39990234375, 3415.830322265625, 4698.0126953125, 4889.2890625, 5733.11279296875, 5678.71435546875, 5339.53955078125, 4831.6005859375, 4414.1669921875, 4248.41455078125, 4235.11669921875, 4221.720703125, 3711.245361328125, 3487.689208984375, 3370.96728515625, 3181.26953125, 3128.893798828125, 2486.01708984375, 2457.6865234375, 2286.9150390625, 2244.234619140625, 2209.1669921875, 2162.86279296875, 2094.814697265625, 1856.7479248046875, 1758.655517578125, 1655.3690185546875, 1446.652587890625, 1425.7049560546875, 1348.8309326171875, 1318.6448974609375, 1297.9609375, 1290.6610107421875, 1288.62841796875, 3796.48583984375, 2243.1162109375, 3724.070556640625, 13076.10546875, 8367.04296875, 6091.830078125, 5573.24658203125, 4773.45703125, 4672.568359375, 2456.756591796875, 2419.619384765625, 2226.222900390625, 1964.0042724609375, 1666.5037841796875, 1644.135009765625, 1635.774169921875, 1544.7559814453125, 1535.513671875, 1339.542236328125, 1231.63623046875, 1196.592529296875, 1145.555419921875, 1122.0909423828125, 1091.250244140625, 1088.2706298828125, 956.83447265625, 937.5830688476562, 940.376953125, 920.94970703125, 869.3368530273438, 866.2832641601562, 843.3427124023438, 841.5687866210938, 827.5283813476562, 932.283935546875, 913.1697387695312, 8172.44140625, 1568.9971923828125, 2537.11181640625, 17470.005859375, 3687.47705078125, 3308.92822265625, 3153.699462890625, 2858.866455078125, 2990.844482421875, 2810.667724609375, 2362.729736328125, 2185.517822265625, 2114.503662109375, 2005.7940673828125, 1741.138671875, 1714.9140625, 1627.0633544921875, 1584.086669921875, 1514.31982421875, 1472.114501953125, 1330.6060791015625, 1235.2882080078125, 1212.3824462890625, 1091.651123046875, 916.773193359375, 904.0599975585938, 820.21484375, 1086.374267578125, 784.1739501953125, 779.8948974609375, 757.9634399414062, 705.98828125, 703.5282592773438, 694.022705078125, 919.1442260742188, 1076.6431884765625, 5246.3681640625, 14329.94921875, 17100.681640625, 2463.43212890625, 8419.791015625], \"loglift\": [30.0, 29.0, 28.0, 27.0, 26.0, 25.0, 24.0, 23.0, 22.0, 21.0, 20.0, 19.0, 18.0, 17.0, 16.0, 15.0, 14.0, 13.0, 12.0, 11.0, 10.0, 9.0, 8.0, 7.0, 6.0, 5.0, 4.0, 3.0, 2.0, 1.0, 0.9465000033378601, 0.9465000033378601, 0.9465000033378601, 0.9465000033378601, 0.9465000033378601, 0.9465000033378601, 0.9465000033378601, 0.9465000033378601, 0.9465000033378601, 0.9465000033378601, 0.9465000033378601, 0.9465000033378601, 0.9465000033378601, 0.9465000033378601, 0.9465000033378601, 0.9465000033378601, 0.9465000033378601, 0.9465000033378601, 0.9465000033378601, 0.9465000033378601, 0.9465000033378601, 0.9465000033378601, 0.946399986743927, 0.946399986743927, 0.946399986743927, 0.946399986743927, 0.946399986743927, 0.946399986743927, 0.946399986743927, 0.946399986743927, 0.9463000297546387, 0.9463000297546387, 0.9449999928474426, 0.9452999830245972, 0.9448000192642212, 0.923799991607666, 0.7919999957084656, 0.8845999836921692, 0.8270999789237976, 0.8051999807357788, 0.8898000121116638, 0.8069999814033508, 0.8791999816894531, 0.7972000241279602, 1.9215999841690063, 1.9215999841690063, 1.9215999841690063, 1.9215999841690063, 1.9215999841690063, 1.9215999841690063, 1.9215999841690063, 1.9215999841690063, 1.9215999841690063, 1.9215999841690063, 1.9215999841690063, 1.9215999841690063, 1.9215999841690063, 1.9215999841690063, 1.9215999841690063, 1.9215999841690063, 1.9214999675750732, 1.9214999675750732, 1.9214999675750732, 1.9214999675750732, 1.9214999675750732, 1.9214999675750732, 1.9214999675750732, 1.9214999675750732, 1.9214999675750732, 1.9214999675750732, 1.9214999675750732, 1.9214999675750732, 1.9214999675750732, 1.9214999675750732, 1.9155999422073364, 1.9193999767303467, 1.913100004196167, 1.914199948310852, 1.8251999616622925, 1.902500033378601, 1.9026999473571777, 1.798200011253357, 1.8032000064849854, 1.7645000219345093, 1.7450000047683716, 1.8762999773025513, 1.5938999652862549, 1.7023999691009521, 1.6991000175476074, 1.8396999835968018, 1.8523000478744507, 1.5384000539779663, 1.2538000345230103, 1.32669997215271, 1.3033000230789185, 1.6668000221252441, 1.1799999475479126, 1.4560999870300293, 1.212499976158142, 0.27239999175071716, 0.5284000039100647, 2.1445999145507812, 2.1445999145507812, 2.1445999145507812, 2.1445999145507812, 2.1445999145507812, 2.1445999145507812, 2.1445999145507812, 2.1445999145507812, 2.1445999145507812, 2.1445999145507812, 2.1445999145507812, 2.1445999145507812, 2.1445999145507812, 2.1445999145507812, 2.1445999145507812, 2.1445999145507812, 2.1445999145507812, 2.1445999145507812, 2.1445999145507812, 2.1445999145507812, 2.1445999145507812, 2.1445999145507812, 2.1445999145507812, 2.1445999145507812, 2.1445000171661377, 2.1445000171661377, 2.1445000171661377, 2.1445000171661377, 2.1445000171661377, 2.1445000171661377, 2.144399881362915, 2.1414999961853027, 2.140700101852417, 2.141200065612793, 2.1428000926971436, 2.0295000076293945, 2.0267999172210693, 2.0977001190185547, 1.6992000341415405, 1.9444999694824219, 2.015700101852417, 1.92739999294281, 1.4975999593734741, 1.7238999605178833, 0.8694999814033508, 1.534999966621399, 1.667799949645996, 1.6533000469207764, 1.7000999450683594, 1.2115999460220337, 1.3890000581741333, 2.3334999084472656, 2.3334999084472656, 2.3334999084472656, 2.3334999084472656, 2.3334999084472656, 2.3334999084472656, 2.3334999084472656, 2.3334999084472656, 2.3334999084472656, 2.3334999084472656, 2.333400011062622, 2.333400011062622, 2.333400011062622, 2.333400011062622, 2.333400011062622, 2.333400011062622, 2.333400011062622, 2.333400011062622, 2.333400011062622, 2.333400011062622, 2.333400011062622, 2.333400011062622, 2.333400011062622, 2.333400011062622, 2.333400011062622, 2.333400011062622, 2.333400011062622, 2.333400011062622, 2.333400011062622, 2.333400011062622, 2.3329999446868896, 2.3292999267578125, 2.333400011062622, 2.229599952697754, 2.2636001110076904, 2.2462000846862793, 2.255000114440918, 2.1566998958587646, 2.121000051498413, 2.048099994659424, 2.220599889755249, 1.6332000494003296, 2.2613000869750977, 2.114500045776367, 2.1143999099731445, 1.656000018119812, 1.7544000148773193, 1.3398000001907349, 1.2115999460220337, 1.9788999557495117, -0.07940000295639038, 0.5450999736785889, 0.2524000108242035, 0.148499995470047, 2.680000066757202, 2.680000066757202, 2.680000066757202, 2.680000066757202, 2.680000066757202, 2.680000066757202, 2.680000066757202, 2.680000066757202, 2.680000066757202, 2.680000066757202, 2.680000066757202, 2.680000066757202, 2.680000066757202, 2.680000066757202, 2.680000066757202, 2.680000066757202, 2.680000066757202, 2.680000066757202, 2.680000066757202, 2.680000066757202, 2.680000066757202, 2.6798999309539795, 2.6798999309539795, 2.6798999309539795, 2.6798999309539795, 2.6798999309539795, 2.6798999309539795, 2.6798999309539795, 2.6798999309539795, 2.6798999309539795, 2.6768999099731445, 2.6389999389648438, 2.4688000679016113, 2.259000062942505, 1.9769999980926514, 2.384399890899658, 2.520400047302246, 1.6648999452590942, 1.8877999782562256, 1.5786000490188599, 1.6550999879837036, 1.7240999937057495, 0.8015999794006348, 1.1227999925613403, 3.0485000610351562, 3.0485000610351562, 3.0485000610351562, 3.0485000610351562, 3.0485000610351562, 3.0483999252319336, 3.0483999252319336, 3.0483999252319336, 3.0483999252319336, 3.0483999252319336, 3.0483999252319336, 3.0483999252319336, 3.0483999252319336, 3.0483999252319336, 3.0483999252319336, 3.0483999252319336, 3.0483999252319336, 3.0483999252319336, 3.0483999252319336, 3.0483999252319336, 3.0483999252319336, 3.0483999252319336, 3.0483999252319336, 3.0483999252319336, 3.0483999252319336, 3.0483999252319336, 3.0483999252319336, 3.0483999252319336, 3.04830002784729, 3.04830002784729, 3.0471999645233154, 2.8719000816345215, 2.922600030899048, 2.744800090789795, 2.3159000873565674, 2.759200096130371, 2.0808000564575195, 2.6928000450134277, 2.136399984359741, 2.523900032043457, 1.3538000583648682, 2.1898000240325928, 1.226199984550476, 1.332800030708313, 1.2283999919891357, 1.7949999570846558, 3.1503000259399414, 3.1503000259399414, 3.1503000259399414, 3.1503000259399414, 3.1501998901367188, 3.1501998901367188, 3.1501998901367188, 3.1501998901367188, 3.1501998901367188, 3.1501998901367188, 3.1501998901367188, 3.1501998901367188, 3.1501998901367188, 3.1501998901367188, 3.1501998901367188, 3.1501998901367188, 3.1501998901367188, 3.1501998901367188, 3.1501998901367188, 3.1501998901367188, 3.1501998901367188, 3.1501998901367188, 3.1501998901367188, 3.1501998901367188, 3.1501998901367188, 3.1501998901367188, 3.1501998901367188, 3.1501998901367188, 3.1501998901367188, 3.1501998901367188, 3.1442999839782715, 3.0485999584198, 2.856100082397461, 2.7702999114990234, 2.8375000953674316, 2.5989999771118164, 2.413599967956543, 3.2832000255584717, 3.2832000255584717, 3.2832000255584717, 3.2832000255584717, 3.2832000255584717, 3.2832000255584717, 3.2832000255584717, 3.2832000255584717, 3.2832000255584717, 3.2832000255584717, 3.2832000255584717, 3.2832000255584717, 3.2832000255584717, 3.2832000255584717, 3.2832000255584717, 3.2832000255584717, 3.2832000255584717, 3.2832000255584717, 3.2832000255584717, 3.2832000255584717, 3.2832000255584717, 3.2832000255584717, 3.2832000255584717, 3.2832000255584717, 3.2832000255584717, 3.2832000255584717, 3.2832000255584717, 3.2832000255584717, 3.2832000255584717, 3.2832000255584717, 3.282099962234497, 3.231800079345703, 2.921999931335449, 1.0118999481201172, 3.476099967956543, 3.476099967956543, 3.476099967956543, 3.476099967956543, 3.476099967956543, 3.476099967956543, 3.476099967956543, 3.476099967956543, 3.476099967956543, 3.4760000705718994, 3.4760000705718994, 3.4760000705718994, 3.4760000705718994, 3.4760000705718994, 3.4760000705718994, 3.4760000705718994, 3.4760000705718994, 3.4760000705718994, 3.4760000705718994, 3.4760000705718994, 3.4760000705718994, 3.4760000705718994, 3.4760000705718994, 3.4760000705718994, 3.4760000705718994, 3.4760000705718994, 3.4760000705718994, 3.4760000705718994, 3.4760000705718994, 3.4760000705718994, 3.4760000705718994, 3.4760000705718994, 3.4233999252319336, 3.312999963760376, 3.0487000942230225, 2.2571001052856445, 3.722100019454956, 3.722100019454956, 3.722100019454956, 3.722100019454956, 3.722100019454956, 3.722100019454956, 3.722100019454956, 3.722100019454956, 3.7219998836517334, 3.7219998836517334, 3.7219998836517334, 3.7219998836517334, 3.7219998836517334, 3.7219998836517334, 3.7219998836517334, 3.7219998836517334, 3.7219998836517334, 3.7219998836517334, 3.7219998836517334, 3.7219998836517334, 3.7219998836517334, 3.7219998836517334, 3.7219998836517334, 3.72189998626709, 3.72189998626709, 3.72189998626709, 3.72189998626709, 3.72189998626709, 3.72189998626709, 3.72189998626709, 3.7218000888824463, 3.684799909591675, 2.847399950027466, 1.7936999797821045, 1.3242000341415405, 2.835200071334839, 1.7853000164031982], \"logprob\": [30.0, 29.0, 28.0, 27.0, 26.0, 25.0, 24.0, 23.0, 22.0, 21.0, 20.0, 19.0, 18.0, 17.0, 16.0, 15.0, 14.0, 13.0, 12.0, 11.0, 10.0, 9.0, 8.0, 7.0, 6.0, 5.0, 4.0, 3.0, 2.0, 1.0, -4.004000186920166, -4.279399871826172, -4.348400115966797, -4.353700160980225, -4.427499771118164, -4.5218000411987305, -4.6107001304626465, -4.667500019073486, -4.739099979400635, -4.78410005569458, -4.83620023727417, -4.908599853515625, -4.985199928283691, -5.001800060272217, -5.05679988861084, -5.059999942779541, -5.0680999755859375, -5.085899829864502, -5.257699966430664, -5.2342000007629395, -5.292200088500977, -5.402200222015381, -5.351600170135498, -5.549499988555908, -5.447400093078613, -5.595799922943115, -5.611800193786621, -5.202000141143799, -5.683199882507324, -5.706699848175049, -4.475599765777588, -4.479300022125244, -4.523799896240234, -5.1757001876831055, -5.367700099945068, -5.067299842834473, -3.555299997329712, -4.715199947357178, -4.379499912261963, -4.546999931335449, -5.093599796295166, -4.877099990844727, -5.126200199127197, -5.118599891662598, -2.482800006866455, -3.598400115966797, -4.132999897003174, -4.365200042724609, -4.4496002197265625, -4.973999977111816, -5.052199840545654, -5.130099773406982, -5.27869987487793, -5.313899993896484, -5.333600044250488, -5.26039981842041, -5.645699977874756, -5.648200035095215, -5.665599822998047, -5.802700042724609, -5.860499858856201, -5.864799976348877, -6.075699806213379, -6.110899925231934, -6.155399799346924, -6.158100128173828, -6.193900108337402, -6.217299938201904, -6.231200218200684, -6.297100067138672, -6.3628997802734375, -6.373799800872803, -6.372799873352051, -6.401700019836426, -5.058899879455566, -5.707699775695801, -5.099599838256836, -5.578000068664551, -2.002000093460083, -5.473199844360352, -5.772200107574463, -4.188000202178955, -4.42609977722168, -4.133999824523926, -4.011099815368652, -5.599800109863281, -2.8557000160217285, -4.214399814605713, -4.213099956512451, -5.273200035095215, -5.494699954986572, -4.542200088500977, -3.9865000247955322, -4.373600006103516, -4.418399810791016, -5.191199779510498, -4.58519983291626, -4.98769998550415, -4.900599956512451, -4.953199863433838, -5.268799781799316, -3.5481998920440674, -3.5418999195098877, -4.277900218963623, -4.434800148010254, -4.522200107574463, -4.637899875640869, -4.736499786376953, -4.755099773406982, -4.795499801635742, -4.813399791717529, -4.842400074005127, -4.9969000816345215, -5.083600044250488, -5.088200092315674, -5.105899810791016, -5.1596999168396, -5.165500164031982, -5.271299839019775, -5.296299934387207, -5.317200183868408, -5.319499969482422, -5.404900074005127, -5.417099952697754, -5.4207000732421875, -5.508600234985352, -5.556600093841553, -5.553299903869629, -5.716400146484375, -5.7316999435424805, -5.810299873352051, -3.1113998889923096, -3.9660000801086426, -4.0366997718811035, -4.45989990234375, -4.663400173187256, -4.593100070953369, -4.660299777984619, -5.1641998291015625, -3.526400089263916, -4.553299903869629, -4.999800205230713, -4.930799961090088, -4.267600059509277, -4.634099960327148, -3.5799999237060547, -4.515399932861328, -4.762400150299072, -4.753399848937988, -4.8769001960754395, -4.81820011138916, -4.9868998527526855, -2.2402000427246094, -2.5789999961853027, -3.896399974822998, -3.9967000484466553, -4.546199798583984, -4.823999881744385, -4.9552001953125, -4.97160005569458, -5.044000148773193, -5.121399879455566, -5.21619987487793, -5.328199863433838, -5.395199775695801, -5.40369987487793, -5.412399768829346, -5.4197998046875, -5.468599796295166, -5.508500099182129, -5.632800102233887, -5.650700092315674, -5.6620001792907715, -5.738399982452393, -5.748499870300293, -5.8140997886657715, -5.828400135040283, -5.834700107574463, -5.859099864959717, -5.855400085449219, -5.864099979400635, -5.91510009765625, -4.0381999015808105, -4.589300155639648, -5.809599876403809, -3.687700033187866, -4.500400066375732, -4.183599948883057, -4.493800163269043, -3.978800058364868, -4.204800128936768, -3.7490999698638916, -5.1209001541137695, -3.526599884033203, -5.422599792480469, -5.0777997970581055, -5.129700183868408, -4.456999778747559, -4.643499851226807, -4.381800174713135, -4.605299949645996, -5.1645002365112305, -4.426599979400635, -4.680600166320801, -4.9878997802734375, -5.058199882507324, -3.117500066757202, -3.1842000484466553, -3.3310999870300293, -3.736599922180176, -3.9732000827789307, -4.423799991607666, -4.44320011138916, -4.542699813842773, -4.715400218963623, -4.732699871063232, -4.818999767303467, -4.842199802398682, -4.912499904632568, -4.922599792480469, -4.924300193786621, -4.987400054931641, -5.022799968719482, -5.065999984741211, -5.085700035095215, -5.261499881744385, -5.304599761962891, -5.452700138092041, -5.46560001373291, -5.490699768066406, -5.524099826812744, -5.5278000831604, -5.545400142669678, -5.597899913787842, -5.625500202178955, -5.658899784088135, -3.5078001022338867, -4.564199924468994, -3.1956000328063965, -3.5578999519348145, -3.182800054550171, -4.762400150299072, -5.121699810028076, -3.575500011444092, -4.501699924468994, -4.640900135040283, -4.921999931335449, -4.982999801635742, -4.898799896240234, -4.957799911499023, -2.9347000122070312, -3.289799928665161, -3.3894999027252197, -3.696000099182129, -3.7651000022888184, -3.8473000526428223, -4.060299873352051, -4.130199909210205, -4.163000106811523, -4.33519983291626, -4.493599891662598, -4.614500045776367, -4.696000099182129, -4.751500129699707, -4.888999938964844, -4.901599884033203, -5.0493998527526855, -5.087299823760986, -5.110400199890137, -5.194699764251709, -5.205100059509277, -5.247900009155273, -5.310400009155273, -5.338399887084961, -5.335400104522705, -5.355599880218506, -5.376299858093262, -5.4257001876831055, -5.47599983215332, -5.6296000480651855, -5.538700103759766, -4.739099979400635, -5.0071001052856445, -4.540200233459473, -4.312399864196777, -4.973599910736084, -4.341300010681152, -4.970900058746338, -4.551599979400635, -4.892899990081787, -4.3105998039245605, -4.823800086975098, -4.529900074005127, -4.886600017547607, -4.907199859619141, -4.972599983215332, -2.5878000259399414, -3.4303998947143555, -3.4474000930786133, -3.726099967956543, -3.7815001010894775, -3.771899938583374, -3.82450008392334, -3.9245998859405518, -4.070300102233887, -4.089399814605713, -3.424499988555908, -4.3470001220703125, -4.361400127410889, -4.378900051116943, -4.40880012512207, -4.422999858856201, -4.484399795532227, -4.487599849700928, -4.591800212860107, -4.64739990234375, -4.674799919128418, -4.6844000816345215, -4.772200107574463, -4.782800197601318, -4.8018999099731445, -4.836599826812744, -4.842800140380859, -4.898200035095215, -4.944200038909912, -5.088699817657471, -3.1967999935150146, -4.123199939727783, -4.142099857330322, -4.143499851226807, -4.494900226593018, -4.414700031280518, -4.560200214385986, -3.5313000679016113, -3.540800094604492, -3.602400064468384, -3.702399969100952, -3.7927000522613525, -3.8310000896453857, -3.834199905395508, -3.8373000621795654, -3.966200113296509, -4.028299808502197, -4.062399864196777, -4.120299816131592, -4.136899948120117, -4.3668999671936035, -4.378399848937988, -4.450399875640869, -4.469200134277344, -4.485000133514404, -4.506199836730957, -4.538099765777588, -4.65880012512207, -4.713099956512451, -4.773600101470947, -4.908400058746338, -4.922999858856201, -4.978400230407715, -5.000999927520752, -5.0167999267578125, -5.022500038146973, -5.024099826812744, -3.944700002670288, -4.521100044250488, -4.323999881744385, -4.9781999588012695, -2.960400104522705, -3.2778000831604004, -3.3666999340057373, -3.5216000080108643, -3.5429999828338623, -4.1859002113342285, -4.201099872589111, -4.28439998626709, -4.409800052642822, -4.573999881744385, -4.587600231170654, -4.592599868774414, -4.649899959564209, -4.655900001525879, -4.792500019073486, -4.876399993896484, -4.905300140380859, -4.94890022277832, -4.969600200653076, -4.997499942779541, -5.000199794769287, -5.128900051116943, -5.1493000984191895, -5.146299839019775, -5.167200088500977, -5.224899768829346, -5.228400230407715, -5.255199909210205, -5.257299900054932, -5.274199962615967, -5.15500020980835, -5.1757001876831055, -3.0367000102996826, -4.797399997711182, -4.581099987030029, -3.44320011138916, -3.533799886703491, -3.6421000957489014, -3.690200090408325, -3.788300037384033, -3.7432000637054443, -3.805299997329712, -3.9788999557495117, -4.0569000244140625, -4.089900016784668, -4.1427001953125, -4.284200191497803, -4.2993998527526855, -4.3520002365112305, -4.378799915313721, -4.423799991607666, -4.452099800109863, -4.553199768066406, -4.627500057220459, -4.646200180053711, -4.751100063323975, -4.9257001876831055, -4.939700126647949, -5.0370001792907715, -4.75600004196167, -5.081999778747559, -5.087500095367432, -5.116000175476074, -5.186999797821045, -5.190499782562256, -5.204100131988525, -4.923299789428711, -4.802199840545654, -4.055799961090088, -4.104800224304199, -4.39739990234375, -4.824100017547607, -4.644999980926514]}, \"token.table\": {\"Topic\": [2, 6, 2, 5, 4, 4, 5, 6, 7, 2, 5, 9, 8, 3, 3, 2, 3, 1, 2, 3, 4, 1, 2, 5, 6, 1, 10, 3, 5, 10, 1, 3, 8, 2, 9, 3, 4, 1, 2, 10, 1, 2, 5, 7, 7, 10, 6, 1, 3, 6, 6, 7, 9, 5, 10, 5, 3, 4, 5, 3, 7, 7, 7, 8, 7, 7, 1, 6, 2, 3, 4, 1, 2, 9, 5, 6, 1, 3, 3, 5, 7, 6, 2, 3, 3, 6, 2, 2, 4, 1, 8, 2, 3, 9, 7, 4, 5, 6, 7, 2, 6, 5, 10, 7, 1, 3, 5, 6, 1, 2, 2, 4, 6, 4, 4, 6, 3, 3, 3, 7, 2, 4, 5, 5, 7, 5, 5, 6, 1, 6, 2, 4, 6, 10, 9, 2, 2, 6, 6, 6, 2, 7, 6, 9, 1, 3, 5, 6, 3, 6, 7, 10, 4, 10, 2, 4, 10, 3, 4, 10, 6, 7, 6, 6, 10, 4, 6, 5, 1, 2, 1, 4, 6, 1, 3, 2, 4, 4, 1, 2, 4, 6, 9, 1, 3, 1, 3, 3, 10, 1, 4, 6, 3, 2, 10, 2, 2, 2, 2, 1, 3, 4, 9, 2, 4, 10, 4, 7, 2, 8, 2, 8, 10, 8, 3, 1, 1, 1, 3, 3, 6, 5, 2, 2, 2, 10, 6, 6, 8, 1, 8, 1, 3, 6, 3, 9, 9, 3, 3, 4, 4, 6, 8, 1, 4, 4, 9, 10, 2, 6, 3, 3, 3, 6, 3, 7, 7, 9, 9, 5, 1, 2, 3, 6, 2, 4, 2, 5, 2, 2, 1, 2, 5, 9, 9, 8, 1, 8, 4, 4, 9, 8, 10, 2, 7, 2, 4, 3, 4, 1, 6, 10, 1, 1, 2, 3, 4, 5, 4, 9, 9, 4, 5, 3, 1, 1, 3, 2, 4, 5, 1, 5, 9, 3, 5, 10, 10, 3, 1, 9, 8, 1, 3, 1, 6, 6, 6, 1, 5, 5, 8, 4, 1, 1, 3, 6, 1, 3, 4, 7, 4, 1, 4, 10, 5, 6, 9, 4, 6, 1, 7, 7, 3, 9, 6, 7, 4, 1, 2, 5, 6, 9, 5, 7, 4, 6, 10, 10, 5, 6, 2, 6, 7, 1, 1, 2, 3, 4, 9, 7, 6, 1, 2, 4, 9, 8, 8, 3, 6, 9, 1, 3, 5, 1, 6, 1, 2, 7, 3, 3, 4, 2, 5, 2, 4, 7, 6, 9, 10, 4, 5, 2, 1, 3, 3, 4, 8, 1, 10, 7, 10, 2, 2, 4, 5, 3, 4, 4, 5, 4, 5, 5, 5, 5, 5, 8, 2, 7, 3, 4, 6, 8, 2, 6, 2, 7, 1, 10, 3, 10, 5, 10, 1, 2, 8, 4, 7, 7, 3, 6, 7, 9, 9, 5, 1, 2, 10, 7, 10, 7, 1, 2, 4, 1, 2, 3, 1, 1, 1, 10, 1, 10, 8, 2, 3, 4, 2, 10, 9, 1, 2, 10, 10, 9, 2, 1, 6, 1, 2, 5, 9, 1, 3, 6, 6, 6, 8, 8, 8, 4, 1, 1, 2, 1, 8, 5, 9, 1, 9, 5, 8, 8, 8, 5, 5, 10, 9, 6, 9, 4, 8, 4, 5, 8, 10, 6, 4, 3, 4, 1, 2, 4, 5, 3, 1, 3, 5, 9, 5, 4, 5, 10, 10, 6, 9, 1, 8, 4, 8, 1, 8, 2, 4, 5, 10, 2, 1, 3, 9, 1, 5, 1, 2, 4, 7, 8, 1, 3], \"Freq\": [0.9926599264144897, 0.007213099859654903, 0.9999963641166687, 1.0000056028366089, 1.0000534057617188, 0.7013930082321167, 0.2707173526287079, 0.027871526777744293, 1.0001029968261719, 0.5516312122344971, 0.15283337235450745, 0.2955351173877716, 0.9998757243156433, 0.999860405921936, 0.999971330165863, 0.9999861717224121, 1.0000332593917847, 0.8682612180709839, 0.0032732549589127302, 0.09819764643907547, 0.03026750683784485, 0.20134280622005463, 0.2863820195198059, 0.3323647379875183, 0.17989061772823334, 0.9999144673347473, 1.0002473592758179, 0.8048466444015503, 0.19515299797058105, 0.9996554851531982, 0.18133185803890228, 0.8185983300209045, 1.0000096559524536, 1.0000452995300293, 1.0000278949737549, 0.19140858948230743, 0.8085381388664246, 0.09580130130052567, 0.49199649691581726, 0.4120267629623413, 0.8613731861114502, 0.09557400643825531, 0.008449708111584187, 0.03457989543676376, 0.9997996091842651, 0.9999452829360962, 1.0000452995300293, 0.5301951766014099, 0.46978461742401123, 0.9999701380729675, 0.9998792409896851, 0.9997994899749756, 1.0001380443572998, 1.000059723854065, 1.000048279762268, 1.0002155303955078, 0.9998607635498047, 1.0000317096710205, 0.9998929500579834, 0.9999566078186035, 0.99998539686203, 0.9999388456344604, 1.0001145601272583, 0.999895453453064, 0.9999472498893738, 1.0001122951507568, 0.519310474395752, 0.48065537214279175, 0.47637099027633667, 0.523647665977478, 0.9999562501907349, 0.19609759747982025, 0.8031543493270874, 0.0007107560522854328, 0.9596850275993347, 0.04013695940375328, 0.10869812220335007, 0.8913245797157288, 1.0000008344650269, 0.005975270178169012, 0.9939590692520142, 0.9999157190322876, 0.9999982118606567, 1.0000311136245728, 0.1616845428943634, 0.8382066488265991, 0.9998021125793457, 0.43951326608657837, 0.5603736639022827, 1.0000072717666626, 0.9999244213104248, 0.7205883860588074, 0.279405802488327, 0.9996125102043152, 0.9998484253883362, 0.9997909069061279, 0.7440932393074036, 0.25581246614456177, 0.9999681115150452, 0.9939340949058533, 0.0059357681311666965, 0.9998010396957397, 0.9999203681945801, 1.0000401735305786, 0.0005522066494449973, 0.006184714846313, 0.8095901608467102, 0.18366393446922302, 0.9998127818107605, 0.00017331533308606595, 0.9999479651451111, 0.9013351202011108, 0.09863130748271942, 0.9999959468841553, 0.8379980325698853, 0.16204479336738586, 0.9998427629470825, 1.0000635385513306, 0.8888039588928223, 0.11102371662855148, 0.512848436832428, 0.12481528520584106, 0.36234015226364136, 0.9999794960021973, 0.9999818205833435, 1.0000895261764526, 0.9995606541633606, 1.000058650970459, 0.001025429810397327, 0.9987685680389404, 0.8381217122077942, 0.0001815819414332509, 0.16166844964027405, 0.9997380375862122, 0.9995952248573303, 1.0000473260879517, 0.9558349251747131, 0.0442766509950161, 1.0000406503677368, 1.0001204013824463, 1.000004768371582, 1.0000780820846558, 1.0003211498260498, 0.9999189376831055, 0.0038738867733627558, 0.9960501194000244, 1.0001943111419678, 1.0001647472381592, 1.0000098943710327, 1.0000134706497192, 0.9998607635498047, 0.9997630715370178, 0.9323932528495789, 0.06748782843351364, 0.5388674139976501, 0.3702191710472107, 0.09093204885721207, 0.6207992434501648, 0.23504146933555603, 0.14418409764766693, 1.0002917051315308, 0.9997503161430359, 1.0000929832458496, 0.9998835325241089, 0.9997618198394775, 0.9999532103538513, 1.000118374824524, 0.9999924898147583, 0.9985165596008301, 0.001453180331736803, 0.0075044045224785805, 0.8032392859458923, 0.189218208193779, 0.3881538212299347, 0.6118120551109314, 0.9998304843902588, 1.000247836112976, 1.0001795291900635, 0.0375857874751091, 0.02516336552798748, 0.29941219091415405, 0.5918169021606445, 0.0461859256029129, 0.1209065243601799, 0.8789712190628052, 0.001729757059365511, 0.9982427954673767, 0.9998753666877747, 1.0001347064971924, 0.2546502649784088, 0.0072597661055624485, 0.7379831671714783, 1.000062346458435, 0.8545738458633423, 0.14535990357398987, 0.9998943209648132, 0.9999603033065796, 0.9997767806053162, 1.0000529289245605, 0.6065706014633179, 0.3933716416358948, 1.0000377893447876, 0.9996730089187622, 0.9998155236244202, 0.999884307384491, 0.9998430609703064, 0.26845595240592957, 0.731300950050354, 0.0010536059271544218, 0.9988183975219727, 0.9998923540115356, 0.9999621510505676, 0.9998706579208374, 1.0000884532928467, 0.9999902844429016, 0.9999988079071045, 1.0000048875808716, 0.8698636293411255, 0.13015571236610413, 0.11811236292123795, 0.8815864324569702, 1.0000641345977783, 1.000072717666626, 1.0000412464141846, 0.9214425086975098, 0.07851066440343857, 0.9999512434005737, 1.0000317096710205, 1.0000371932983398, 0.9999418258666992, 1.0001252889633179, 0.0011271947296336293, 0.9965810775756836, 0.0022543894592672586, 0.999989926815033, 0.9996976852416992, 0.999361515045166, 0.9999122023582458, 0.0004478594346437603, 0.9995102882385254, 1.0000556707382202, 0.9998966455459595, 0.9999153017997742, 0.004258173052221537, 0.9958317875862122, 1.0000975131988525, 0.9998783469200134, 1.0000519752502441, 0.9999603629112244, 0.999804675579071, 1.0000247955322266, 0.999885618686676, 0.25120940804481506, 0.7488225102424622, 0.9999140501022339, 0.9999051094055176, 0.9999143481254578, 0.9996654987335205, 0.9999948740005493, 0.9998729228973389, 0.05525971204042435, 0.9081221222877502, 0.021961404010653496, 0.01465266291052103, 0.4920341372489929, 0.5078615546226501, 0.8839184045791626, 0.11603239178657532, 0.9999343156814575, 1.000028133392334, 0.9983010292053223, 0.0016891726991161704, 0.9998233914375305, 0.999504804611206, 0.9993781447410583, 0.9995123147964478, 1.000001072883606, 1.0000300407409668, 0.9998679161071777, 0.999846339225769, 0.9999557733535767, 1.0002626180648804, 1.000095248222351, 0.9999379515647888, 1.0000600814819336, 0.24827063083648682, 0.7516855001449585, 1.0000215768814087, 0.9998111724853516, 0.6199976801872253, 0.3799149990081787, 1.0000500679016113, 0.9999932646751404, 0.18996022641658783, 0.8004506230354309, 0.0030421935953199863, 0.005730643402785063, 0.0007074868772178888, 1.0000183582305908, 0.9998140931129456, 0.9995936155319214, 0.9998289942741394, 0.9999327063560486, 0.9999902248382568, 0.9999631643295288, 0.998823344707489, 0.001133342389948666, 0.017880965024232864, 0.32565224170684814, 0.6563857793807983, 0.22269415855407715, 0.12494522333145142, 0.6523165106773376, 0.9540400505065918, 0.04583320766687393, 0.999778151512146, 0.999933660030365, 0.999935507774353, 0.9999984502792358, 0.999515175819397, 1.0002402067184448, 0.3434095084667206, 0.6565442085266113, 0.9999647736549377, 1.0000865459442139, 1.0000293254852295, 1.000141978263855, 1.0000040531158447, 1.000054121017456, 0.999656617641449, 1.0001357793807983, 0.9999132752418518, 0.9999682307243347, 0.41080188751220703, 0.5435387492179871, 0.045572444796562195, 0.9999801516532898, 0.9998975396156311, 0.2548547387123108, 0.7450728416442871, 0.9997474551200867, 0.8875236511230469, 0.11246903985738754, 1.0001026391983032, 0.10516270995140076, 0.04525183513760567, 0.8495872616767883, 1.0002225637435913, 1.000022530555725, 0.9999533891677856, 0.999964714050293, 0.9999458193778992, 0.05139223113656044, 0.948553740978241, 0.4237962067127228, 0.5762010812759399, 0.9999032616615295, 0.009795932099223137, 0.6816126704216003, 0.21073812246322632, 0.09779186546802521, 0.9998998641967773, 0.9997277855873108, 1.0001920461654663, 0.8034246563911438, 0.19646620750427246, 0.9996845722198486, 0.9999222159385681, 0.9968637228012085, 0.003158748149871826, 0.9999422430992126, 0.9998641014099121, 0.9999987483024597, 1.0000097751617432, 0.11162735521793365, 0.888355553150177, 0.010452930815517902, 0.9244310855865479, 0.06500416249036789, 0.9999165534973145, 0.9999562501907349, 1.0000098943710327, 0.9999996423721313, 1.0000039339065552, 1.0000990629196167, 1.0000661611557007, 1.0002069473266602, 0.9969000816345215, 0.0030104834586381912, 0.9997513294219971, 0.9999480247497559, 0.6411224603652954, 0.3588690161705017, 0.9999815225601196, 1.0001921653747559, 0.15053313970565796, 0.37060603499412537, 0.4785971939563751, 0.9997630715370178, 0.9999425411224365, 1.000011682510376, 0.9331254363059998, 0.06684279441833496, 0.1296374797821045, 0.1862695962190628, 0.68382328748703, 1.0000090599060059, 0.9999178647994995, 0.9999672770500183, 0.9303649663925171, 0.0694861114025116, 0.9998043179512024, 0.9999846816062927, 1.0000087022781372, 0.9999887943267822, 0.30316290259361267, 0.6968181729316711, 0.9999816417694092, 1.0001144409179688, 0.9997329711914062, 1.0000165700912476, 0.9997087121009827, 0.981332540512085, 0.018554607406258583, 1.0001097917556763, 0.999843418598175, 0.9999925494194031, 0.9163610935211182, 0.08357536047697067, 0.9998818635940552, 1.0000019073486328, 0.9997572898864746, 0.9997804164886475, 0.9999845623970032, 0.9998633861541748, 1.0002692937850952, 0.99993497133255, 0.9999568462371826, 0.07533329725265503, 0.8933642506599426, 0.031315017491579056, 1.000063419342041, 0.9975923895835876, 0.0019653120543807745, 0.9998853206634521, 1.0000706911087036, 0.9448595643043518, 0.05507945641875267, 1.000009298324585, 1.000046730041504, 0.9997811317443848, 0.9999610781669617, 0.8929263949394226, 0.0039002439007163048, 0.10316527634859085, 0.9999392628669739, 0.9999935626983643, 0.9999397397041321, 0.4440183639526367, 0.40175285935401917, 0.15415382385253906, 0.9997439980506897, 0.9999042749404907, 0.9999680519104004, 0.5678213834762573, 0.015058035962283611, 0.41705042123794556, 0.9032819867134094, 0.09673568606376648, 0.9999813437461853, 0.9349262714385986, 0.06050071120262146, 0.00450454605743289, 0.11714071035385132, 0.7751690745353699, 0.10766743123531342, 0.9999791383743286, 1.0000128746032715, 1.000044584274292, 0.9997667074203491, 0.036223698407411575, 0.9631788730621338, 1.0001275539398193, 0.19220882654190063, 0.6405417919158936, 0.16721241176128387, 0.9811216592788696, 0.01895591802895069, 0.9996954202651978, 0.9776023626327515, 0.02243225648999214, 1.0000216960906982, 1.0003196001052856, 0.9993241429328918, 0.9999877214431763, 0.9999775290489197, 1.000080943107605, 0.9399771690368652, 0.057771481573581696, 0.0022259620018303394, 1.0000545978546143, 0.3360248804092407, 0.37829843163490295, 0.28559616208076477, 0.9994875192642212, 0.04993053898215294, 0.9500176310539246, 0.9999024271965027, 0.9998989701271057, 1.0002652406692505, 0.9999954700469971, 0.9999685287475586, 1.0000838041305542, 0.9999496340751648, 1.000033974647522, 0.9995999336242676, 1.0001729726791382, 0.9999874234199524, 0.9999978542327881, 0.9999551773071289, 0.99977707862854, 0.9999803304672241, 1.000089168548584, 0.9999848008155823, 0.9997696876525879, 0.9995445013046265, 0.9995991587638855, 0.7005025148391724, 0.29928338527679443, 1.0001544952392578, 1.000195860862732, 0.1468469798564911, 0.8523509502410889, 0.0007980813970789313, 1.0001182556152344, 0.9998877644538879, 0.9999147057533264, 0.9998180866241455, 0.9997847676277161, 0.2502918839454651, 0.6278365850448608, 0.08559766411781311, 0.03623754531145096, 0.9999852180480957, 0.4328232705593109, 0.18265360593795776, 0.3844184875488281, 1.0001579523086548, 1.0000169277191162, 0.4964328706264496, 0.49506592750549316, 0.008468364365398884, 0.9997888207435608, 0.9998587369918823, 1.0002954006195068, 1.0000104904174805, 0.9999931454658508, 0.9998537302017212, 1.0000503063201904, 1.0000050067901611, 0.9999724626541138, 0.9915755987167358, 0.0004252951475791633, 0.007867960259318352, 0.9992491006851196, 0.9996695518493652, 0.9998480081558228, 0.00017396982002537698, 0.9997707009315491, 0.5471479296684265, 0.45283961296081543, 0.8568313121795654, 0.05359818786382675, 0.0895620808005333, 0.9998326301574707, 0.9999338984489441, 0.00018350285245105624, 0.9997969269752502], \"Term\": [\"accept\", \"accept\", \"accident\", \"actual\", \"added\", \"additional\", \"additional\", \"additional\", \"address\", \"adjuster\", \"adjuster\", \"adjuster\", \"advice\", \"agency\", \"agent\", \"agreement\", \"allstate\", \"also\", \"also\", \"also\", \"also\", \"amount\", \"amount\", \"amount\", \"amount\", \"answer\", \"arbitration\", \"area\", \"area\", \"argue\", \"around\", \"around\", \"asked\", \"at-fault\", \"attorney\", \"auto\", \"auto\", \"avoid\", \"avoid\", \"avoid\", \"back\", \"back\", \"back\", \"back\", \"bank\", \"behind\", \"benefit\", \"best\", \"best\", \"bill\", \"billed\", \"billing\", \"bodily\", \"body\", \"brake\", \"brand\", \"broker\", \"building\", \"bumper\", \"business\", \"call\", \"called\", \"calling\", \"came\", \"cancel\", \"card\", \"care\", \"care\", \"carrier\", \"carrier\", \"carry\", \"case\", \"case\", \"case\", \"cash\", \"cash\", \"change\", \"change\", \"cheaper\", \"check\", \"check\", \"child\", \"claim\", \"client\", \"code\", \"code\", \"collect\", \"collision\", \"collision\", \"come\", \"comment\", \"company\", \"company\", \"compensation\", \"complaint\", \"comprehensive\", \"condition\", \"condition\", \"contact\", \"contract\", \"contract\", \"contractor\", \"control\", \"copy\", \"cost\", \"cost\", \"cost\", \"cost\", \"could\", \"could\", \"court\", \"cover\", \"cover\", \"coverage\", \"covered\", \"covered\", \"credit\", \"current\", \"customer\", \"customer\", \"damage\", \"damage\", \"damage\", \"damaged\", \"date\", \"dealer\", \"dealership\", \"death\", \"debt\", \"debt\", \"deductible\", \"deductible\", \"deductible\", \"delivery\", \"demand\", \"denial\", \"denied\", \"denied\", \"dental\", \"dentist\", \"deny\", \"department\", \"dependent\", \"didnt\", \"different\", \"different\", \"diminished\", \"disability\", \"discount\", \"doctor\", \"document\", \"door\", \"drive\", \"drive\", \"driver\", \"driver\", \"driver\", \"driving\", \"driving\", \"driving\", \"eligible\", \"email\", \"employee\", \"employer\", \"ended\", \"endorsement\", \"enrollment\", \"estimate\", \"even\", \"even\", \"event\", \"event\", \"event\", \"every\", \"every\", \"evidence\", \"excluded\", \"exclusion\", \"expense\", \"expense\", \"expense\", \"expense\", \"expense\", \"expensive\", \"expensive\", \"experience\", \"experience\", \"factor\", \"failed\", \"family\", \"family\", \"family\", \"farm\", \"fault\", \"fault\", \"fight\", \"file\", \"filed\", \"filing\", \"find\", \"find\", \"fire\", \"firm\", \"fixed\", \"flood\", \"foot\", \"form\", \"form\", \"found\", \"found\", \"fraud\", \"friend\", \"front\", \"gave\", \"geico\", \"getting\", \"going\", \"good\", \"good\", \"group\", \"group\", \"hail\", \"handle\", \"handled\", \"happened\", \"happened\", \"health\", \"healthcare\", \"heard\", \"help\", \"helpful\", \"high\", \"high\", \"high\", \"higher\", \"hire\", \"hired\", \"history\", \"home\", \"home\", \"homeowner\", \"hospital\", \"hour\", \"house\", \"house\", \"household\", \"http\", \"impact\", \"incident\", \"income\", \"increase\", \"independent\", \"individual\", \"individual\", \"industry\", \"info\", \"information\", \"injured\", \"injury\", \"inspection\", \"insurance\", \"insurance\", \"insurance\", \"insurance\", \"insured\", \"insured\", \"insurer\", \"insurer\", \"investigation\", \"involved\", \"issue\", \"issue\", \"item\", \"judge\", \"jury\", \"knew\", \"know\", \"knowledge\", \"lane\", \"language\", \"lawyer\", \"learn\", \"left\", \"legal\", \"letter\", \"liability\", \"liability\", \"license\", \"lien\", \"life\", \"life\", \"light\", \"like\", \"likely\", \"likely\", \"likely\", \"likely\", \"likely\", \"limit\", \"limitation\", \"link\", \"listed\", \"loan\", \"local\", \"long\", \"look\", \"look\", \"loss\", \"loss\", \"loss\", \"lost\", \"lost\", \"lost\", \"lower\", \"lower\", \"maintain\", \"maintenance\", \"major\", \"make\", \"management\", \"manager\", \"many\", \"many\", \"maybe\", \"medicaid\", \"medical\", \"medicare\", \"might\", \"mile\", \"mileage\", \"mine\", \"minimum\", \"money\", \"month\", \"month\", \"month\", \"much\", \"multiple\", \"name\", \"name\", \"named\", \"need\", \"need\", \"negligence\", \"negotiate\", \"negotiate\", \"negotiate\", \"neighbor\", \"network\", \"never\", \"notice\", \"number\", \"offer\", \"offer\", \"office\", \"office\", \"owner\", \"paid\", \"paid\", \"paid\", \"paid\", \"pain\", \"paint\", \"paperwork\", \"parent\", \"parent\", \"parked\", \"parking\", \"part\", \"part\", \"party\", \"patient\", \"payment\", \"people\", \"person\", \"person\", \"personal\", \"personal\", \"personal\", \"phone\", \"plan\", \"point\", \"police\", \"policy\", \"position\", \"post\", \"practice\", \"premium\", \"premium\", \"present\", \"pretty\", \"price\", \"price\", \"probably\", \"procedure\", \"process\", \"process\", \"process\", \"product\", \"progressive\", \"property\", \"prove\", \"prove\", \"provide\", \"provide\", \"provide\", \"provider\", \"public\", \"pulled\", \"purchase\", \"purchase\", \"pursue\", \"question\", \"quote\", \"rate\", \"read\", \"read\", \"really\", \"rear\", \"received\", \"recorded\", \"recover\", \"regardless\", \"regardless\", \"release\", \"renewal\", \"rent\", \"rental\", \"rental\", \"renter\", \"repair\", \"repaired\", \"replace\", \"replaced\", \"replacement\", \"reply\", \"report\", \"request\", \"require\", \"require\", \"require\", \"response\", \"responsibility\", \"responsibility\", \"responsible\", \"review\", \"right\", \"right\", \"risk\", \"road\", \"roof\", \"safe\", \"said\", \"said\", \"said\", \"salvage\", \"send\", \"sent\", \"service\", \"service\", \"service\", \"settle\", \"settlement\", \"shop\", \"side\", \"side\", \"side\", \"sign\", \"sign\", \"signed\", \"since\", \"since\", \"since\", \"small\", \"small\", \"small\", \"someone\", \"something\", \"sound\", \"speed\", \"spot\", \"spot\", \"started\", \"state\", \"state\", \"state\", \"statement\", \"statement\", \"statute\", \"still\", \"still\", \"stop\", \"stopped\", \"suffering\", \"supervisor\", \"sure\", \"surgery\", \"take\", \"take\", \"take\", \"team\", \"term\", \"term\", \"term\", \"tesla\", \"test\", \"test\", \"thank\", \"thanks\", \"theft\", \"thing\", \"think\", \"third\", \"though\", \"thought\", \"threshold\", \"tier\", \"time\", \"tire\", \"title\", \"today\", \"told\", \"took\", \"total\", \"totaled\", \"traffic\", \"training\", \"treatment\", \"treatment\", \"tree\", \"tried\", \"truck\", \"truck\", \"truck\", \"turn\", \"uber\", \"umbrella\", \"underwriting\", \"uninsured\", \"unless\", \"unless\", \"unless\", \"unless\", \"usaa\", \"used\", \"used\", \"used\", \"valuation\", \"value\", \"vehicle\", \"vehicle\", \"vehicle\", \"video\", \"visit\", \"wage\", \"want\", \"wanted\", \"water\", \"week\", \"well\", \"went\", \"whether\", \"whether\", \"whether\", \"windshield\", \"witness\", \"work\", \"work\", \"worker\", \"worth\", \"worth\", \"would\", \"would\", \"would\", \"writing\", \"yeah\", \"year\", \"year\"]}, \"R\": 30, \"lambda.step\": 0.01, \"plot.opts\": {\"xlab\": \"PC1\", \"ylab\": \"PC2\"}, \"topic.order\": [9, 6, 2, 7, 8, 1, 5, 10, 4, 3]};\n",
              "\n",
              "function LDAvis_load_lib(url, callback){\n",
              "  var s = document.createElement('script');\n",
              "  s.src = url;\n",
              "  s.async = true;\n",
              "  s.onreadystatechange = s.onload = callback;\n",
              "  s.onerror = function(){console.warn(\"failed to load library \" + url);};\n",
              "  document.getElementsByTagName(\"head\")[0].appendChild(s);\n",
              "}\n",
              "\n",
              "if(typeof(LDAvis) !== \"undefined\"){\n",
              "   // already loaded: just create the visualization\n",
              "   !function(LDAvis){\n",
              "       new LDAvis(\"#\" + \"ldavis_el1221399575539907761890032927\", ldavis_el1221399575539907761890032927_data);\n",
              "   }(LDAvis);\n",
              "}else if(typeof define === \"function\" && define.amd){\n",
              "   // require.js is available: use it to load d3/LDAvis\n",
              "   require.config({paths: {d3: \"https://cdnjs.cloudflare.com/ajax/libs/d3/3.5.5/d3.min\"}});\n",
              "   require([\"d3\"], function(d3){\n",
              "      window.d3 = d3;\n",
              "      LDAvis_load_lib(\"https://cdn.rawgit.com/bmabey/pyLDAvis/files/ldavis.v1.0.0.js\", function(){\n",
              "        new LDAvis(\"#\" + \"ldavis_el1221399575539907761890032927\", ldavis_el1221399575539907761890032927_data);\n",
              "      });\n",
              "    });\n",
              "}else{\n",
              "    // require.js not available: dynamically load d3 & LDAvis\n",
              "    LDAvis_load_lib(\"https://cdnjs.cloudflare.com/ajax/libs/d3/3.5.5/d3.min.js\", function(){\n",
              "         LDAvis_load_lib(\"https://cdn.rawgit.com/bmabey/pyLDAvis/files/ldavis.v1.0.0.js\", function(){\n",
              "                 new LDAvis(\"#\" + \"ldavis_el1221399575539907761890032927\", ldavis_el1221399575539907761890032927_data);\n",
              "            })\n",
              "         });\n",
              "}\n",
              "</script>"
            ],
            "text/plain": [
              "PreparedData(topic_coordinates=              x         y  topics  cluster       Freq\n",
              "topic                                                \n",
              "8      0.102672 -0.111384       1        1  38.811035\n",
              "5      0.142070 -0.042063       2        1  14.637110\n",
              "1      0.146403 -0.049794       3        1  11.711477\n",
              "6      0.149840  0.008317       4        1   9.695614\n",
              "7      0.136645  0.115579       5        1   6.856091\n",
              "0      0.128654  0.065224       6        1   4.743124\n",
              "4     -0.159972 -0.061052       7        1   4.284032\n",
              "9     -0.281749 -0.105967       8        1   3.750534\n",
              "3     -0.194635  0.387399       9        1   3.092709\n",
              "2     -0.169930 -0.206260      10        1   2.418286, topic_info=    Category           Freq       Term          Total  loglift  logprob\n",
              "6    Default  113699.000000  insurance  113699.000000  30.0000  30.0000\n",
              "64   Default   53897.000000     policy   53897.000000  29.0000  29.0000\n",
              "116  Default   63842.000000      claim   63842.000000  28.0000  28.0000\n",
              "51   Default   38411.000000   coverage   38411.000000  27.0000  27.0000\n",
              "117  Default   61022.000000    company   61022.000000  26.0000  26.0000\n",
              "..       ...            ...        ...            ...      ...      ...\n",
              "367  Topic10    2187.694336       side    5246.368164   2.8474  -4.0558\n",
              "169  Topic10    2083.195801      fault   14329.949219   1.7937  -4.1048\n",
              "69   Topic10    1554.653198     driver   17100.681641   1.3242  -4.3974\n",
              "311  Topic10    1014.753479      avoid    2463.432129   2.8352  -4.8241\n",
              "203  Topic10    1213.764526    driving    8419.791016   1.7853  -4.6450\n",
              "\n",
              "[470 rows x 6 columns], token_table=      Topic      Freq      Term\n",
              "term                           \n",
              "1206      2  0.992660    accept\n",
              "1206      6  0.007213    accept\n",
              "110       2  0.999996  accident\n",
              "812       5  1.000006    actual\n",
              "68        4  1.000053     added\n",
              "...     ...       ...       ...\n",
              "192       4  0.089562     would\n",
              "3637      7  0.999833   writing\n",
              "867       8  0.999934      yeah\n",
              "49        1  0.000184      year\n",
              "49        3  0.999797      year\n",
              "\n",
              "[578 rows x 3 columns], R=30, lambda_step=0.01, plot_opts={'xlab': 'PC1', 'ylab': 'PC2'}, topic_order=[9, 6, 2, 7, 8, 1, 5, 10, 4, 3])"
            ]
          },
          "metadata": {
            "tags": []
          },
          "execution_count": 26
        }
      ]
    },
    {
      "cell_type": "code",
      "metadata": {
        "id": "QCZavDdUoCyI",
        "colab_type": "code",
        "outputId": "9968e55f-1cad-4e8b-d653-bc78dc649674",
        "colab": {
          "base_uri": "https://localhost:8080/",
          "height": 1000
        }
      },
      "source": [
        "top_topics = model.top_topics(corpus)\n",
        "\n",
        "# Average topic coherence = sum of topic coherences of all topics / number of topics.\n",
        "avg_topic_coherence = sum([t[1] for t in top_topics]) / num_topics\n",
        "print('Average topic coherence: %.4f.' % avg_topic_coherence)\n",
        "\n",
        "from pprint import pprint\n",
        "pprint(top_topics)"
      ],
      "execution_count": 0,
      "outputs": [
        {
          "output_type": "stream",
          "text": [
            "Average topic coherence: -2.7714.\n",
            "[([(0.028572386, 'would'),\n",
            "   (0.018242227, 'like'),\n",
            "   (0.013850699, 'time'),\n",
            "   (0.012927533, 'make'),\n",
            "   (0.012859421, 'know'),\n",
            "   (0.012531349, 'need'),\n",
            "   (0.011944751, 'going'),\n",
            "   (0.011383575, 'could'),\n",
            "   (0.011340816, 'work'),\n",
            "   (0.010869248, 'want'),\n",
            "   (0.010847188, 'even'),\n",
            "   (0.01059936, 'also'),\n",
            "   (0.009944916, 'thing'),\n",
            "   (0.009395708, 'people'),\n",
            "   (0.008957905, 'take'),\n",
            "   (0.008746757, 'much'),\n",
            "   (0.00836156, 'think'),\n",
            "   (0.007937216, 'sure'),\n",
            "   (0.007619242, 'good'),\n",
            "   (0.00738317, 'really')],\n",
            "  -1.8316223946778893),\n",
            " ([(0.13506289, 'insurance'),\n",
            "   (0.08351016, 'claim'),\n",
            "   (0.057518415, 'company'),\n",
            "   (0.027367488, 'accident'),\n",
            "   (0.01856414, 'damage'),\n",
            "   (0.018113334, 'deductible'),\n",
            "   (0.016034855, 'file'),\n",
            "   (0.016019328, 'fault'),\n",
            "   (0.015176741, 'insurer'),\n",
            "   (0.014800169, 'likely'),\n",
            "   (0.014781383, 'case'),\n",
            "   (0.012712441, 'party'),\n",
            "   (0.012605648, 'adjuster'),\n",
            "   (0.012053311, 'driver'),\n",
            "   (0.011960924, 'person'),\n",
            "   (0.0116830105, 'report'),\n",
            "   (0.010649553, 'paid'),\n",
            "   (0.010201557, 'carrier'),\n",
            "   (0.0074422862, 'insured'),\n",
            "   (0.007060962, 'state')],\n",
            "  -2.174238153340554),\n",
            " ([(0.10643461, 'policy'),\n",
            "   (0.07585232, 'coverage'),\n",
            "   (0.029404543, 'vehicle'),\n",
            "   (0.025030343, 'cover'),\n",
            "   (0.023540005, 'liability'),\n",
            "   (0.020315628, 'limit'),\n",
            "   (0.018708194, 'covered'),\n",
            "   (0.01837658, 'property'),\n",
            "   (0.017629368, 'home'),\n",
            "   (0.015243298, 'rental'),\n",
            "   (0.014923834, 'auto'),\n",
            "   (0.012502315, 'driver'),\n",
            "   (0.011954716, 'would'),\n",
            "   (0.011596627, 'insured'),\n",
            "   (0.011177932, 'personal'),\n",
            "   (0.011104964, 'drive'),\n",
            "   (0.010607164, 'owner'),\n",
            "   (0.010159511, 'house'),\n",
            "   (0.009998456, 'loss'),\n",
            "   (0.00962353, 'collision')],\n",
            "  -2.43732606406836),\n",
            " ([(0.044536564, 'year'),\n",
            "   (0.029409923, 'state'),\n",
            "   (0.028958619, 'agent'),\n",
            "   (0.028775008, 'rate'),\n",
            "   (0.02787461, 'company'),\n",
            "   (0.018948361, 'premium'),\n",
            "   (0.01765529, 'different'),\n",
            "   (0.014014735, 'carrier'),\n",
            "   (0.013871316, 'risk'),\n",
            "   (0.011857827, 'business'),\n",
            "   (0.011562992, 'high'),\n",
            "   (0.010939108, 'month'),\n",
            "   (0.010864868, 'quote'),\n",
            "   (0.01053228, 'around'),\n",
            "   (0.010121098, 'change'),\n",
            "   (0.009714886, 'many'),\n",
            "   (0.009678162, 'higher'),\n",
            "   (0.009463261, 'customer'),\n",
            "   (0.009434347, 'experience'),\n",
            "   (0.008768872, 'increase')],\n",
            "  -2.6063239831634317),\n",
            " ([(0.044267472, 'value'),\n",
            "   (0.041467667, 'vehicle'),\n",
            "   (0.041409906, 'shop'),\n",
            "   (0.04094315, 'cost'),\n",
            "   (0.03575346, 'repair'),\n",
            "   (0.029964073, 'part'),\n",
            "   (0.02849934, 'loss'),\n",
            "   (0.028001456, 'damage'),\n",
            "   (0.023834994, 'total'),\n",
            "   (0.018813642, 'estimate'),\n",
            "   (0.011988266, 'actual'),\n",
            "   (0.011758159, 'replacement'),\n",
            "   (0.011089588, 'worth'),\n",
            "   (0.010644455, 'body'),\n",
            "   (0.010417714, 'cash'),\n",
            "   (0.00964941, 'amount'),\n",
            "   (0.0089561585, 'loan'),\n",
            "   (0.008802357, 'title'),\n",
            "   (0.008544702, 'condition'),\n",
            "   (0.008074855, 'roof')],\n",
            "  -2.7332629093828276),\n",
            " ([(0.05314865, 'plan'),\n",
            "   (0.03726312, 'bill'),\n",
            "   (0.033724897, 'medical'),\n",
            "   (0.024822185, 'health'),\n",
            "   (0.023165625, 'doctor'),\n",
            "   (0.021336356, 'benefit'),\n",
            "   (0.01724398, 'provider'),\n",
            "   (0.016079413, 'employer'),\n",
            "   (0.015560496, 'network'),\n",
            "   (0.013425716, 'cost'),\n",
            "   (0.013401636, 'care'),\n",
            "   (0.013099829, 'hospital'),\n",
            "   (0.013019417, 'life'),\n",
            "   (0.011180014, 'employee'),\n",
            "   (0.0107814055, 'deductible'),\n",
            "   (0.010670843, 'family'),\n",
            "   (0.010550443, 'service'),\n",
            "   (0.009907401, 'income'),\n",
            "   (0.009131714, 'visit'),\n",
            "   (0.008746862, 'code')],\n",
            "  -2.7437714390252834),\n",
            " ([(0.07518684, 'call'),\n",
            "   (0.04089087, 'check'),\n",
            "   (0.032566335, 'payment'),\n",
            "   (0.03237302, 'information'),\n",
            "   (0.03182672, 'number'),\n",
            "   (0.024085708, 'called'),\n",
            "   (0.023007866, 'contact'),\n",
            "   (0.022788307, 'send'),\n",
            "   (0.021829339, 'info'),\n",
            "   (0.01975071, 'phone'),\n",
            "   (0.017072288, 'date'),\n",
            "   (0.016749185, 'letter'),\n",
            "   (0.016192311, 'sign'),\n",
            "   (0.015889784, 'name'),\n",
            "   (0.015867181, 'provide'),\n",
            "   (0.012945842, 'department'),\n",
            "   (0.012759915, 'sent'),\n",
            "   (0.012538741, 'card'),\n",
            "   (0.012169729, 'request'),\n",
            "   (0.012098496, 'office')],\n",
            "  -3.0545280211897476),\n",
            " ([(0.029194046, 'front'),\n",
            "   (0.02619694, 'stop'),\n",
            "   (0.024967937, 'left'),\n",
            "   (0.023678496, 'impact'),\n",
            "   (0.022633638, 'road'),\n",
            "   (0.02225203, 'turn'),\n",
            "   (0.018705545, 'rear'),\n",
            "   (0.017320776, 'side'),\n",
            "   (0.017302494, 'door'),\n",
            "   (0.016740253, 'ended'),\n",
            "   (0.016493423, 'fault'),\n",
            "   (0.01587956, 'negligence'),\n",
            "   (0.013784187, 'control'),\n",
            "   (0.013576556, 'light'),\n",
            "   (0.012881011, 'safe'),\n",
            "   (0.01254075, 'behind'),\n",
            "   (0.012308758, 'driver'),\n",
            "   (0.011988383, 'video'),\n",
            "   (0.01165423, 'parking'),\n",
            "   (0.010533853, 'traffic')],\n",
            "  -3.0849927334797234),\n",
            " ([(0.029266817, 'told'),\n",
            "   (0.028989114, 'week'),\n",
            "   (0.027257627, 'thanks'),\n",
            "   (0.024664607, 'advice'),\n",
            "   (0.022533605, 'friend'),\n",
            "   (0.021687448, 'thank'),\n",
            "   (0.021619562, 'went'),\n",
            "   (0.021551173, 'post'),\n",
            "   (0.01935793, 'found'),\n",
            "   (0.018945202, 'yeah'),\n",
            "   (0.01780395, 'took'),\n",
            "   (0.017208084, 'asked'),\n",
            "   (0.01623968, 'hour'),\n",
            "   (0.015972301, 'thought'),\n",
            "   (0.013246419, 'read'),\n",
            "   (0.012690425, 'wanted'),\n",
            "   (0.012545797, 'started'),\n",
            "   (0.01167401, 'heard'),\n",
            "   (0.011456127, 'came'),\n",
            "   (0.011277108, 'comment')],\n",
            "  -3.4099611894628317),\n",
            " ([(0.05179815, 'injury'),\n",
            "   (0.047994412, 'offer'),\n",
            "   (0.037712686, 'attorney'),\n",
            "   (0.03450222, 'lawyer'),\n",
            "   (0.031963013, 'adjuster'),\n",
            "   (0.02955086, 'settlement'),\n",
            "   (0.028926268, 'http'),\n",
            "   (0.015208556, 'position'),\n",
            "   (0.014978646, 'settle'),\n",
            "   (0.01378136, 'pain'),\n",
            "   (0.012158012, 'tire'),\n",
            "   (0.010316234, 'hire'),\n",
            "   (0.010243741, 'lost'),\n",
            "   (0.010177754, 'public'),\n",
            "   (0.010125992, 'bodily'),\n",
            "   (0.009562516, 'valuation'),\n",
            "   (0.009505297, 'injured'),\n",
            "   (0.008292072, 'demand'),\n",
            "   (0.008251368, 'negotiate'),\n",
            "   (0.007624044, 'wage')],\n",
            "  -3.637809377370274)]\n"
          ],
          "name": "stdout"
        }
      ]
    }
  ]
}